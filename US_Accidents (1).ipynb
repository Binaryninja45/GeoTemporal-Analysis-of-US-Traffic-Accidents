{
  "nbformat": 4,
  "nbformat_minor": 0,
  "metadata": {
    "colab": {
      "provenance": [],
      "machine_shape": "hm",
      "gpuType": "A100"
    },
    "kernelspec": {
      "name": "python3",
      "display_name": "Python 3"
    },
    "language_info": {
      "name": "python"
    },
    "accelerator": "GPU"
  },
  "cells": [
    {
      "cell_type": "code",
      "source": [
        "import pandas as pd"
      ],
      "metadata": {
        "id": "WvgcfyrjSnlQ"
      },
      "execution_count": 120,
      "outputs": []
    },
    {
      "cell_type": "code",
      "source": [
        "df = pd.read_csv(\"/content/US_Accidents_March23.csv\")\n",
        "df.head()"
      ],
      "metadata": {
        "colab": {
          "base_uri": "https://localhost:8080/",
          "height": 463
        },
        "id": "BxeO4-GUSnn0",
        "outputId": "775000c6-03b4-4694-ad01-00e60f7eb4df"
      },
      "execution_count": 121,
      "outputs": [
        {
          "output_type": "stream",
          "name": "stderr",
          "text": [
            "<ipython-input-121-04791ba1968a>:1: DtypeWarning: Columns (29,30,31,32,33,34,35,36,37,38,39,40,41) have mixed types. Specify dtype option on import or set low_memory=False.\n",
            "  df = pd.read_csv(\"/content/US_Accidents_March23.csv\")\n"
          ]
        },
        {
          "output_type": "execute_result",
          "data": {
            "text/plain": [
              "    ID   Source  Severity           Start_Time             End_Time  \\\n",
              "0  A-1  Source2         3  2016-02-08 05:46:00  2016-02-08 11:00:00   \n",
              "1  A-2  Source2         2  2016-02-08 06:07:59  2016-02-08 06:37:59   \n",
              "2  A-3  Source2         2  2016-02-08 06:49:27  2016-02-08 07:19:27   \n",
              "3  A-4  Source2         3  2016-02-08 07:23:34  2016-02-08 07:53:34   \n",
              "4  A-5  Source2         2  2016-02-08 07:39:07  2016-02-08 08:09:07   \n",
              "\n",
              "   Start_Lat  Start_Lng  End_Lat  End_Lng  Distance(mi)  ... Roundabout  \\\n",
              "0  39.865147 -84.058723      NaN      NaN          0.01  ...      False   \n",
              "1  39.928059 -82.831184      NaN      NaN          0.01  ...      False   \n",
              "2  39.063148 -84.032608      NaN      NaN          0.01  ...      False   \n",
              "3  39.747753 -84.205582      NaN      NaN          0.01  ...      False   \n",
              "4  39.627781 -84.188354      NaN      NaN          0.01  ...      False   \n",
              "\n",
              "  Station   Stop Traffic_Calming Traffic_Signal Turning_Loop Sunrise_Sunset  \\\n",
              "0   False  False           False          False        False          Night   \n",
              "1   False  False           False          False        False          Night   \n",
              "2   False  False           False           True        False          Night   \n",
              "3   False  False           False          False        False          Night   \n",
              "4   False  False           False           True        False            Day   \n",
              "\n",
              "  Civil_Twilight Nautical_Twilight Astronomical_Twilight  \n",
              "0          Night             Night                 Night  \n",
              "1          Night             Night                   Day  \n",
              "2          Night               Day                   Day  \n",
              "3            Day               Day                   Day  \n",
              "4            Day               Day                   Day  \n",
              "\n",
              "[5 rows x 46 columns]"
            ],
            "text/html": [
              "\n",
              "  <div id=\"df-c42ad20e-7402-4b32-ae7f-6b27ace15617\" class=\"colab-df-container\">\n",
              "    <div>\n",
              "<style scoped>\n",
              "    .dataframe tbody tr th:only-of-type {\n",
              "        vertical-align: middle;\n",
              "    }\n",
              "\n",
              "    .dataframe tbody tr th {\n",
              "        vertical-align: top;\n",
              "    }\n",
              "\n",
              "    .dataframe thead th {\n",
              "        text-align: right;\n",
              "    }\n",
              "</style>\n",
              "<table border=\"1\" class=\"dataframe\">\n",
              "  <thead>\n",
              "    <tr style=\"text-align: right;\">\n",
              "      <th></th>\n",
              "      <th>ID</th>\n",
              "      <th>Source</th>\n",
              "      <th>Severity</th>\n",
              "      <th>Start_Time</th>\n",
              "      <th>End_Time</th>\n",
              "      <th>Start_Lat</th>\n",
              "      <th>Start_Lng</th>\n",
              "      <th>End_Lat</th>\n",
              "      <th>End_Lng</th>\n",
              "      <th>Distance(mi)</th>\n",
              "      <th>...</th>\n",
              "      <th>Roundabout</th>\n",
              "      <th>Station</th>\n",
              "      <th>Stop</th>\n",
              "      <th>Traffic_Calming</th>\n",
              "      <th>Traffic_Signal</th>\n",
              "      <th>Turning_Loop</th>\n",
              "      <th>Sunrise_Sunset</th>\n",
              "      <th>Civil_Twilight</th>\n",
              "      <th>Nautical_Twilight</th>\n",
              "      <th>Astronomical_Twilight</th>\n",
              "    </tr>\n",
              "  </thead>\n",
              "  <tbody>\n",
              "    <tr>\n",
              "      <th>0</th>\n",
              "      <td>A-1</td>\n",
              "      <td>Source2</td>\n",
              "      <td>3</td>\n",
              "      <td>2016-02-08 05:46:00</td>\n",
              "      <td>2016-02-08 11:00:00</td>\n",
              "      <td>39.865147</td>\n",
              "      <td>-84.058723</td>\n",
              "      <td>NaN</td>\n",
              "      <td>NaN</td>\n",
              "      <td>0.01</td>\n",
              "      <td>...</td>\n",
              "      <td>False</td>\n",
              "      <td>False</td>\n",
              "      <td>False</td>\n",
              "      <td>False</td>\n",
              "      <td>False</td>\n",
              "      <td>False</td>\n",
              "      <td>Night</td>\n",
              "      <td>Night</td>\n",
              "      <td>Night</td>\n",
              "      <td>Night</td>\n",
              "    </tr>\n",
              "    <tr>\n",
              "      <th>1</th>\n",
              "      <td>A-2</td>\n",
              "      <td>Source2</td>\n",
              "      <td>2</td>\n",
              "      <td>2016-02-08 06:07:59</td>\n",
              "      <td>2016-02-08 06:37:59</td>\n",
              "      <td>39.928059</td>\n",
              "      <td>-82.831184</td>\n",
              "      <td>NaN</td>\n",
              "      <td>NaN</td>\n",
              "      <td>0.01</td>\n",
              "      <td>...</td>\n",
              "      <td>False</td>\n",
              "      <td>False</td>\n",
              "      <td>False</td>\n",
              "      <td>False</td>\n",
              "      <td>False</td>\n",
              "      <td>False</td>\n",
              "      <td>Night</td>\n",
              "      <td>Night</td>\n",
              "      <td>Night</td>\n",
              "      <td>Day</td>\n",
              "    </tr>\n",
              "    <tr>\n",
              "      <th>2</th>\n",
              "      <td>A-3</td>\n",
              "      <td>Source2</td>\n",
              "      <td>2</td>\n",
              "      <td>2016-02-08 06:49:27</td>\n",
              "      <td>2016-02-08 07:19:27</td>\n",
              "      <td>39.063148</td>\n",
              "      <td>-84.032608</td>\n",
              "      <td>NaN</td>\n",
              "      <td>NaN</td>\n",
              "      <td>0.01</td>\n",
              "      <td>...</td>\n",
              "      <td>False</td>\n",
              "      <td>False</td>\n",
              "      <td>False</td>\n",
              "      <td>False</td>\n",
              "      <td>True</td>\n",
              "      <td>False</td>\n",
              "      <td>Night</td>\n",
              "      <td>Night</td>\n",
              "      <td>Day</td>\n",
              "      <td>Day</td>\n",
              "    </tr>\n",
              "    <tr>\n",
              "      <th>3</th>\n",
              "      <td>A-4</td>\n",
              "      <td>Source2</td>\n",
              "      <td>3</td>\n",
              "      <td>2016-02-08 07:23:34</td>\n",
              "      <td>2016-02-08 07:53:34</td>\n",
              "      <td>39.747753</td>\n",
              "      <td>-84.205582</td>\n",
              "      <td>NaN</td>\n",
              "      <td>NaN</td>\n",
              "      <td>0.01</td>\n",
              "      <td>...</td>\n",
              "      <td>False</td>\n",
              "      <td>False</td>\n",
              "      <td>False</td>\n",
              "      <td>False</td>\n",
              "      <td>False</td>\n",
              "      <td>False</td>\n",
              "      <td>Night</td>\n",
              "      <td>Day</td>\n",
              "      <td>Day</td>\n",
              "      <td>Day</td>\n",
              "    </tr>\n",
              "    <tr>\n",
              "      <th>4</th>\n",
              "      <td>A-5</td>\n",
              "      <td>Source2</td>\n",
              "      <td>2</td>\n",
              "      <td>2016-02-08 07:39:07</td>\n",
              "      <td>2016-02-08 08:09:07</td>\n",
              "      <td>39.627781</td>\n",
              "      <td>-84.188354</td>\n",
              "      <td>NaN</td>\n",
              "      <td>NaN</td>\n",
              "      <td>0.01</td>\n",
              "      <td>...</td>\n",
              "      <td>False</td>\n",
              "      <td>False</td>\n",
              "      <td>False</td>\n",
              "      <td>False</td>\n",
              "      <td>True</td>\n",
              "      <td>False</td>\n",
              "      <td>Day</td>\n",
              "      <td>Day</td>\n",
              "      <td>Day</td>\n",
              "      <td>Day</td>\n",
              "    </tr>\n",
              "  </tbody>\n",
              "</table>\n",
              "<p>5 rows × 46 columns</p>\n",
              "</div>\n",
              "    <div class=\"colab-df-buttons\">\n",
              "\n",
              "  <div class=\"colab-df-container\">\n",
              "    <button class=\"colab-df-convert\" onclick=\"convertToInteractive('df-c42ad20e-7402-4b32-ae7f-6b27ace15617')\"\n",
              "            title=\"Convert this dataframe to an interactive table.\"\n",
              "            style=\"display:none;\">\n",
              "\n",
              "  <svg xmlns=\"http://www.w3.org/2000/svg\" height=\"24px\" viewBox=\"0 -960 960 960\">\n",
              "    <path d=\"M120-120v-720h720v720H120Zm60-500h600v-160H180v160Zm220 220h160v-160H400v160Zm0 220h160v-160H400v160ZM180-400h160v-160H180v160Zm440 0h160v-160H620v160ZM180-180h160v-160H180v160Zm440 0h160v-160H620v160Z\"/>\n",
              "  </svg>\n",
              "    </button>\n",
              "\n",
              "  <style>\n",
              "    .colab-df-container {\n",
              "      display:flex;\n",
              "      gap: 12px;\n",
              "    }\n",
              "\n",
              "    .colab-df-convert {\n",
              "      background-color: #E8F0FE;\n",
              "      border: none;\n",
              "      border-radius: 50%;\n",
              "      cursor: pointer;\n",
              "      display: none;\n",
              "      fill: #1967D2;\n",
              "      height: 32px;\n",
              "      padding: 0 0 0 0;\n",
              "      width: 32px;\n",
              "    }\n",
              "\n",
              "    .colab-df-convert:hover {\n",
              "      background-color: #E2EBFA;\n",
              "      box-shadow: 0px 1px 2px rgba(60, 64, 67, 0.3), 0px 1px 3px 1px rgba(60, 64, 67, 0.15);\n",
              "      fill: #174EA6;\n",
              "    }\n",
              "\n",
              "    .colab-df-buttons div {\n",
              "      margin-bottom: 4px;\n",
              "    }\n",
              "\n",
              "    [theme=dark] .colab-df-convert {\n",
              "      background-color: #3B4455;\n",
              "      fill: #D2E3FC;\n",
              "    }\n",
              "\n",
              "    [theme=dark] .colab-df-convert:hover {\n",
              "      background-color: #434B5C;\n",
              "      box-shadow: 0px 1px 3px 1px rgba(0, 0, 0, 0.15);\n",
              "      filter: drop-shadow(0px 1px 2px rgba(0, 0, 0, 0.3));\n",
              "      fill: #FFFFFF;\n",
              "    }\n",
              "  </style>\n",
              "\n",
              "    <script>\n",
              "      const buttonEl =\n",
              "        document.querySelector('#df-c42ad20e-7402-4b32-ae7f-6b27ace15617 button.colab-df-convert');\n",
              "      buttonEl.style.display =\n",
              "        google.colab.kernel.accessAllowed ? 'block' : 'none';\n",
              "\n",
              "      async function convertToInteractive(key) {\n",
              "        const element = document.querySelector('#df-c42ad20e-7402-4b32-ae7f-6b27ace15617');\n",
              "        const dataTable =\n",
              "          await google.colab.kernel.invokeFunction('convertToInteractive',\n",
              "                                                    [key], {});\n",
              "        if (!dataTable) return;\n",
              "\n",
              "        const docLinkHtml = 'Like what you see? Visit the ' +\n",
              "          '<a target=\"_blank\" href=https://colab.research.google.com/notebooks/data_table.ipynb>data table notebook</a>'\n",
              "          + ' to learn more about interactive tables.';\n",
              "        element.innerHTML = '';\n",
              "        dataTable['output_type'] = 'display_data';\n",
              "        await google.colab.output.renderOutput(dataTable, element);\n",
              "        const docLink = document.createElement('div');\n",
              "        docLink.innerHTML = docLinkHtml;\n",
              "        element.appendChild(docLink);\n",
              "      }\n",
              "    </script>\n",
              "  </div>\n",
              "\n",
              "\n",
              "<div id=\"df-bf2181f1-882c-49d3-84af-b622e1c0dd38\">\n",
              "  <button class=\"colab-df-quickchart\" onclick=\"quickchart('df-bf2181f1-882c-49d3-84af-b622e1c0dd38')\"\n",
              "            title=\"Suggest charts\"\n",
              "            style=\"display:none;\">\n",
              "\n",
              "<svg xmlns=\"http://www.w3.org/2000/svg\" height=\"24px\"viewBox=\"0 0 24 24\"\n",
              "     width=\"24px\">\n",
              "    <g>\n",
              "        <path d=\"M19 3H5c-1.1 0-2 .9-2 2v14c0 1.1.9 2 2 2h14c1.1 0 2-.9 2-2V5c0-1.1-.9-2-2-2zM9 17H7v-7h2v7zm4 0h-2V7h2v10zm4 0h-2v-4h2v4z\"/>\n",
              "    </g>\n",
              "</svg>\n",
              "  </button>\n",
              "\n",
              "<style>\n",
              "  .colab-df-quickchart {\n",
              "      --bg-color: #E8F0FE;\n",
              "      --fill-color: #1967D2;\n",
              "      --hover-bg-color: #E2EBFA;\n",
              "      --hover-fill-color: #174EA6;\n",
              "      --disabled-fill-color: #AAA;\n",
              "      --disabled-bg-color: #DDD;\n",
              "  }\n",
              "\n",
              "  [theme=dark] .colab-df-quickchart {\n",
              "      --bg-color: #3B4455;\n",
              "      --fill-color: #D2E3FC;\n",
              "      --hover-bg-color: #434B5C;\n",
              "      --hover-fill-color: #FFFFFF;\n",
              "      --disabled-bg-color: #3B4455;\n",
              "      --disabled-fill-color: #666;\n",
              "  }\n",
              "\n",
              "  .colab-df-quickchart {\n",
              "    background-color: var(--bg-color);\n",
              "    border: none;\n",
              "    border-radius: 50%;\n",
              "    cursor: pointer;\n",
              "    display: none;\n",
              "    fill: var(--fill-color);\n",
              "    height: 32px;\n",
              "    padding: 0;\n",
              "    width: 32px;\n",
              "  }\n",
              "\n",
              "  .colab-df-quickchart:hover {\n",
              "    background-color: var(--hover-bg-color);\n",
              "    box-shadow: 0 1px 2px rgba(60, 64, 67, 0.3), 0 1px 3px 1px rgba(60, 64, 67, 0.15);\n",
              "    fill: var(--button-hover-fill-color);\n",
              "  }\n",
              "\n",
              "  .colab-df-quickchart-complete:disabled,\n",
              "  .colab-df-quickchart-complete:disabled:hover {\n",
              "    background-color: var(--disabled-bg-color);\n",
              "    fill: var(--disabled-fill-color);\n",
              "    box-shadow: none;\n",
              "  }\n",
              "\n",
              "  .colab-df-spinner {\n",
              "    border: 2px solid var(--fill-color);\n",
              "    border-color: transparent;\n",
              "    border-bottom-color: var(--fill-color);\n",
              "    animation:\n",
              "      spin 1s steps(1) infinite;\n",
              "  }\n",
              "\n",
              "  @keyframes spin {\n",
              "    0% {\n",
              "      border-color: transparent;\n",
              "      border-bottom-color: var(--fill-color);\n",
              "      border-left-color: var(--fill-color);\n",
              "    }\n",
              "    20% {\n",
              "      border-color: transparent;\n",
              "      border-left-color: var(--fill-color);\n",
              "      border-top-color: var(--fill-color);\n",
              "    }\n",
              "    30% {\n",
              "      border-color: transparent;\n",
              "      border-left-color: var(--fill-color);\n",
              "      border-top-color: var(--fill-color);\n",
              "      border-right-color: var(--fill-color);\n",
              "    }\n",
              "    40% {\n",
              "      border-color: transparent;\n",
              "      border-right-color: var(--fill-color);\n",
              "      border-top-color: var(--fill-color);\n",
              "    }\n",
              "    60% {\n",
              "      border-color: transparent;\n",
              "      border-right-color: var(--fill-color);\n",
              "    }\n",
              "    80% {\n",
              "      border-color: transparent;\n",
              "      border-right-color: var(--fill-color);\n",
              "      border-bottom-color: var(--fill-color);\n",
              "    }\n",
              "    90% {\n",
              "      border-color: transparent;\n",
              "      border-bottom-color: var(--fill-color);\n",
              "    }\n",
              "  }\n",
              "</style>\n",
              "\n",
              "  <script>\n",
              "    async function quickchart(key) {\n",
              "      const quickchartButtonEl =\n",
              "        document.querySelector('#' + key + ' button');\n",
              "      quickchartButtonEl.disabled = true;  // To prevent multiple clicks.\n",
              "      quickchartButtonEl.classList.add('colab-df-spinner');\n",
              "      try {\n",
              "        const charts = await google.colab.kernel.invokeFunction(\n",
              "            'suggestCharts', [key], {});\n",
              "      } catch (error) {\n",
              "        console.error('Error during call to suggestCharts:', error);\n",
              "      }\n",
              "      quickchartButtonEl.classList.remove('colab-df-spinner');\n",
              "      quickchartButtonEl.classList.add('colab-df-quickchart-complete');\n",
              "    }\n",
              "    (() => {\n",
              "      let quickchartButtonEl =\n",
              "        document.querySelector('#df-bf2181f1-882c-49d3-84af-b622e1c0dd38 button');\n",
              "      quickchartButtonEl.style.display =\n",
              "        google.colab.kernel.accessAllowed ? 'block' : 'none';\n",
              "    })();\n",
              "  </script>\n",
              "</div>\n",
              "    </div>\n",
              "  </div>\n"
            ]
          },
          "metadata": {},
          "execution_count": 121
        }
      ]
    },
    {
      "cell_type": "code",
      "source": [
        "df.tail()"
      ],
      "metadata": {
        "colab": {
          "base_uri": "https://localhost:8080/",
          "height": 429
        },
        "id": "mK_L-olmUbco",
        "outputId": "9542f436-21da-49e5-a6ae-9b17863d392e"
      },
      "execution_count": 122,
      "outputs": [
        {
          "output_type": "execute_result",
          "data": {
            "text/plain": [
              "              ID   Source  Severity           Start_Time             End_Time  \\\n",
              "631647  A-641319  Source2         2  2022-04-22 09:43:01  2022-04-22 10:42:24   \n",
              "631648  A-641320  Source2         2  2022-04-22 07:39:08  2022-04-22 10:29:52   \n",
              "631649  A-641321  Source2         2  2022-04-22 09:48:37  2022-04-22 10:30:08   \n",
              "631650  A-641322  Source2         2  2022-04-22 09:54:11  2022-04-22 10:30:07   \n",
              "631651  A-641323  Source2         3  2022-04-22 07:51:41  2022-04-22 08:21:11   \n",
              "\n",
              "        Start_Lat   Start_Lng  End_Lat  End_Lng  Distance(mi)  ... Roundabout  \\\n",
              "631647  36.184700  -95.993553      NaN      NaN           0.0  ...      False   \n",
              "631648  29.661791  -95.557770      NaN      NaN           0.0  ...      False   \n",
              "631649  30.105600  -95.269531      NaN      NaN           0.0  ...      False   \n",
              "631650  35.652729  -97.442711      NaN      NaN           0.0  ...      False   \n",
              "631651  37.801731 -122.284470      NaN      NaN           0.0  ...        NaN   \n",
              "\n",
              "       Station   Stop Traffic_Calming Traffic_Signal Turning_Loop  \\\n",
              "631647    True   True           False          False        False   \n",
              "631648   False  False           False           True        False   \n",
              "631649   False  False           False          False        False   \n",
              "631650   False  False           False           True        False   \n",
              "631651     NaN    NaN             NaN            NaN          NaN   \n",
              "\n",
              "       Sunrise_Sunset Civil_Twilight Nautical_Twilight Astronomical_Twilight  \n",
              "631647            Day            Day               Day                   Day  \n",
              "631648            Day            Day               Day                   Day  \n",
              "631649            Day            Day               Day                   Day  \n",
              "631650            Day            Day               Day                   Day  \n",
              "631651            NaN            NaN               NaN                   NaN  \n",
              "\n",
              "[5 rows x 46 columns]"
            ],
            "text/html": [
              "\n",
              "  <div id=\"df-c22bcdd6-afab-47e6-ab86-61b8ce288dfe\" class=\"colab-df-container\">\n",
              "    <div>\n",
              "<style scoped>\n",
              "    .dataframe tbody tr th:only-of-type {\n",
              "        vertical-align: middle;\n",
              "    }\n",
              "\n",
              "    .dataframe tbody tr th {\n",
              "        vertical-align: top;\n",
              "    }\n",
              "\n",
              "    .dataframe thead th {\n",
              "        text-align: right;\n",
              "    }\n",
              "</style>\n",
              "<table border=\"1\" class=\"dataframe\">\n",
              "  <thead>\n",
              "    <tr style=\"text-align: right;\">\n",
              "      <th></th>\n",
              "      <th>ID</th>\n",
              "      <th>Source</th>\n",
              "      <th>Severity</th>\n",
              "      <th>Start_Time</th>\n",
              "      <th>End_Time</th>\n",
              "      <th>Start_Lat</th>\n",
              "      <th>Start_Lng</th>\n",
              "      <th>End_Lat</th>\n",
              "      <th>End_Lng</th>\n",
              "      <th>Distance(mi)</th>\n",
              "      <th>...</th>\n",
              "      <th>Roundabout</th>\n",
              "      <th>Station</th>\n",
              "      <th>Stop</th>\n",
              "      <th>Traffic_Calming</th>\n",
              "      <th>Traffic_Signal</th>\n",
              "      <th>Turning_Loop</th>\n",
              "      <th>Sunrise_Sunset</th>\n",
              "      <th>Civil_Twilight</th>\n",
              "      <th>Nautical_Twilight</th>\n",
              "      <th>Astronomical_Twilight</th>\n",
              "    </tr>\n",
              "  </thead>\n",
              "  <tbody>\n",
              "    <tr>\n",
              "      <th>631647</th>\n",
              "      <td>A-641319</td>\n",
              "      <td>Source2</td>\n",
              "      <td>2</td>\n",
              "      <td>2022-04-22 09:43:01</td>\n",
              "      <td>2022-04-22 10:42:24</td>\n",
              "      <td>36.184700</td>\n",
              "      <td>-95.993553</td>\n",
              "      <td>NaN</td>\n",
              "      <td>NaN</td>\n",
              "      <td>0.0</td>\n",
              "      <td>...</td>\n",
              "      <td>False</td>\n",
              "      <td>True</td>\n",
              "      <td>True</td>\n",
              "      <td>False</td>\n",
              "      <td>False</td>\n",
              "      <td>False</td>\n",
              "      <td>Day</td>\n",
              "      <td>Day</td>\n",
              "      <td>Day</td>\n",
              "      <td>Day</td>\n",
              "    </tr>\n",
              "    <tr>\n",
              "      <th>631648</th>\n",
              "      <td>A-641320</td>\n",
              "      <td>Source2</td>\n",
              "      <td>2</td>\n",
              "      <td>2022-04-22 07:39:08</td>\n",
              "      <td>2022-04-22 10:29:52</td>\n",
              "      <td>29.661791</td>\n",
              "      <td>-95.557770</td>\n",
              "      <td>NaN</td>\n",
              "      <td>NaN</td>\n",
              "      <td>0.0</td>\n",
              "      <td>...</td>\n",
              "      <td>False</td>\n",
              "      <td>False</td>\n",
              "      <td>False</td>\n",
              "      <td>False</td>\n",
              "      <td>True</td>\n",
              "      <td>False</td>\n",
              "      <td>Day</td>\n",
              "      <td>Day</td>\n",
              "      <td>Day</td>\n",
              "      <td>Day</td>\n",
              "    </tr>\n",
              "    <tr>\n",
              "      <th>631649</th>\n",
              "      <td>A-641321</td>\n",
              "      <td>Source2</td>\n",
              "      <td>2</td>\n",
              "      <td>2022-04-22 09:48:37</td>\n",
              "      <td>2022-04-22 10:30:08</td>\n",
              "      <td>30.105600</td>\n",
              "      <td>-95.269531</td>\n",
              "      <td>NaN</td>\n",
              "      <td>NaN</td>\n",
              "      <td>0.0</td>\n",
              "      <td>...</td>\n",
              "      <td>False</td>\n",
              "      <td>False</td>\n",
              "      <td>False</td>\n",
              "      <td>False</td>\n",
              "      <td>False</td>\n",
              "      <td>False</td>\n",
              "      <td>Day</td>\n",
              "      <td>Day</td>\n",
              "      <td>Day</td>\n",
              "      <td>Day</td>\n",
              "    </tr>\n",
              "    <tr>\n",
              "      <th>631650</th>\n",
              "      <td>A-641322</td>\n",
              "      <td>Source2</td>\n",
              "      <td>2</td>\n",
              "      <td>2022-04-22 09:54:11</td>\n",
              "      <td>2022-04-22 10:30:07</td>\n",
              "      <td>35.652729</td>\n",
              "      <td>-97.442711</td>\n",
              "      <td>NaN</td>\n",
              "      <td>NaN</td>\n",
              "      <td>0.0</td>\n",
              "      <td>...</td>\n",
              "      <td>False</td>\n",
              "      <td>False</td>\n",
              "      <td>False</td>\n",
              "      <td>False</td>\n",
              "      <td>True</td>\n",
              "      <td>False</td>\n",
              "      <td>Day</td>\n",
              "      <td>Day</td>\n",
              "      <td>Day</td>\n",
              "      <td>Day</td>\n",
              "    </tr>\n",
              "    <tr>\n",
              "      <th>631651</th>\n",
              "      <td>A-641323</td>\n",
              "      <td>Source2</td>\n",
              "      <td>3</td>\n",
              "      <td>2022-04-22 07:51:41</td>\n",
              "      <td>2022-04-22 08:21:11</td>\n",
              "      <td>37.801731</td>\n",
              "      <td>-122.284470</td>\n",
              "      <td>NaN</td>\n",
              "      <td>NaN</td>\n",
              "      <td>0.0</td>\n",
              "      <td>...</td>\n",
              "      <td>NaN</td>\n",
              "      <td>NaN</td>\n",
              "      <td>NaN</td>\n",
              "      <td>NaN</td>\n",
              "      <td>NaN</td>\n",
              "      <td>NaN</td>\n",
              "      <td>NaN</td>\n",
              "      <td>NaN</td>\n",
              "      <td>NaN</td>\n",
              "      <td>NaN</td>\n",
              "    </tr>\n",
              "  </tbody>\n",
              "</table>\n",
              "<p>5 rows × 46 columns</p>\n",
              "</div>\n",
              "    <div class=\"colab-df-buttons\">\n",
              "\n",
              "  <div class=\"colab-df-container\">\n",
              "    <button class=\"colab-df-convert\" onclick=\"convertToInteractive('df-c22bcdd6-afab-47e6-ab86-61b8ce288dfe')\"\n",
              "            title=\"Convert this dataframe to an interactive table.\"\n",
              "            style=\"display:none;\">\n",
              "\n",
              "  <svg xmlns=\"http://www.w3.org/2000/svg\" height=\"24px\" viewBox=\"0 -960 960 960\">\n",
              "    <path d=\"M120-120v-720h720v720H120Zm60-500h600v-160H180v160Zm220 220h160v-160H400v160Zm0 220h160v-160H400v160ZM180-400h160v-160H180v160Zm440 0h160v-160H620v160ZM180-180h160v-160H180v160Zm440 0h160v-160H620v160Z\"/>\n",
              "  </svg>\n",
              "    </button>\n",
              "\n",
              "  <style>\n",
              "    .colab-df-container {\n",
              "      display:flex;\n",
              "      gap: 12px;\n",
              "    }\n",
              "\n",
              "    .colab-df-convert {\n",
              "      background-color: #E8F0FE;\n",
              "      border: none;\n",
              "      border-radius: 50%;\n",
              "      cursor: pointer;\n",
              "      display: none;\n",
              "      fill: #1967D2;\n",
              "      height: 32px;\n",
              "      padding: 0 0 0 0;\n",
              "      width: 32px;\n",
              "    }\n",
              "\n",
              "    .colab-df-convert:hover {\n",
              "      background-color: #E2EBFA;\n",
              "      box-shadow: 0px 1px 2px rgba(60, 64, 67, 0.3), 0px 1px 3px 1px rgba(60, 64, 67, 0.15);\n",
              "      fill: #174EA6;\n",
              "    }\n",
              "\n",
              "    .colab-df-buttons div {\n",
              "      margin-bottom: 4px;\n",
              "    }\n",
              "\n",
              "    [theme=dark] .colab-df-convert {\n",
              "      background-color: #3B4455;\n",
              "      fill: #D2E3FC;\n",
              "    }\n",
              "\n",
              "    [theme=dark] .colab-df-convert:hover {\n",
              "      background-color: #434B5C;\n",
              "      box-shadow: 0px 1px 3px 1px rgba(0, 0, 0, 0.15);\n",
              "      filter: drop-shadow(0px 1px 2px rgba(0, 0, 0, 0.3));\n",
              "      fill: #FFFFFF;\n",
              "    }\n",
              "  </style>\n",
              "\n",
              "    <script>\n",
              "      const buttonEl =\n",
              "        document.querySelector('#df-c22bcdd6-afab-47e6-ab86-61b8ce288dfe button.colab-df-convert');\n",
              "      buttonEl.style.display =\n",
              "        google.colab.kernel.accessAllowed ? 'block' : 'none';\n",
              "\n",
              "      async function convertToInteractive(key) {\n",
              "        const element = document.querySelector('#df-c22bcdd6-afab-47e6-ab86-61b8ce288dfe');\n",
              "        const dataTable =\n",
              "          await google.colab.kernel.invokeFunction('convertToInteractive',\n",
              "                                                    [key], {});\n",
              "        if (!dataTable) return;\n",
              "\n",
              "        const docLinkHtml = 'Like what you see? Visit the ' +\n",
              "          '<a target=\"_blank\" href=https://colab.research.google.com/notebooks/data_table.ipynb>data table notebook</a>'\n",
              "          + ' to learn more about interactive tables.';\n",
              "        element.innerHTML = '';\n",
              "        dataTable['output_type'] = 'display_data';\n",
              "        await google.colab.output.renderOutput(dataTable, element);\n",
              "        const docLink = document.createElement('div');\n",
              "        docLink.innerHTML = docLinkHtml;\n",
              "        element.appendChild(docLink);\n",
              "      }\n",
              "    </script>\n",
              "  </div>\n",
              "\n",
              "\n",
              "<div id=\"df-e2bc9980-6857-439f-848e-56792c82652c\">\n",
              "  <button class=\"colab-df-quickchart\" onclick=\"quickchart('df-e2bc9980-6857-439f-848e-56792c82652c')\"\n",
              "            title=\"Suggest charts\"\n",
              "            style=\"display:none;\">\n",
              "\n",
              "<svg xmlns=\"http://www.w3.org/2000/svg\" height=\"24px\"viewBox=\"0 0 24 24\"\n",
              "     width=\"24px\">\n",
              "    <g>\n",
              "        <path d=\"M19 3H5c-1.1 0-2 .9-2 2v14c0 1.1.9 2 2 2h14c1.1 0 2-.9 2-2V5c0-1.1-.9-2-2-2zM9 17H7v-7h2v7zm4 0h-2V7h2v10zm4 0h-2v-4h2v4z\"/>\n",
              "    </g>\n",
              "</svg>\n",
              "  </button>\n",
              "\n",
              "<style>\n",
              "  .colab-df-quickchart {\n",
              "      --bg-color: #E8F0FE;\n",
              "      --fill-color: #1967D2;\n",
              "      --hover-bg-color: #E2EBFA;\n",
              "      --hover-fill-color: #174EA6;\n",
              "      --disabled-fill-color: #AAA;\n",
              "      --disabled-bg-color: #DDD;\n",
              "  }\n",
              "\n",
              "  [theme=dark] .colab-df-quickchart {\n",
              "      --bg-color: #3B4455;\n",
              "      --fill-color: #D2E3FC;\n",
              "      --hover-bg-color: #434B5C;\n",
              "      --hover-fill-color: #FFFFFF;\n",
              "      --disabled-bg-color: #3B4455;\n",
              "      --disabled-fill-color: #666;\n",
              "  }\n",
              "\n",
              "  .colab-df-quickchart {\n",
              "    background-color: var(--bg-color);\n",
              "    border: none;\n",
              "    border-radius: 50%;\n",
              "    cursor: pointer;\n",
              "    display: none;\n",
              "    fill: var(--fill-color);\n",
              "    height: 32px;\n",
              "    padding: 0;\n",
              "    width: 32px;\n",
              "  }\n",
              "\n",
              "  .colab-df-quickchart:hover {\n",
              "    background-color: var(--hover-bg-color);\n",
              "    box-shadow: 0 1px 2px rgba(60, 64, 67, 0.3), 0 1px 3px 1px rgba(60, 64, 67, 0.15);\n",
              "    fill: var(--button-hover-fill-color);\n",
              "  }\n",
              "\n",
              "  .colab-df-quickchart-complete:disabled,\n",
              "  .colab-df-quickchart-complete:disabled:hover {\n",
              "    background-color: var(--disabled-bg-color);\n",
              "    fill: var(--disabled-fill-color);\n",
              "    box-shadow: none;\n",
              "  }\n",
              "\n",
              "  .colab-df-spinner {\n",
              "    border: 2px solid var(--fill-color);\n",
              "    border-color: transparent;\n",
              "    border-bottom-color: var(--fill-color);\n",
              "    animation:\n",
              "      spin 1s steps(1) infinite;\n",
              "  }\n",
              "\n",
              "  @keyframes spin {\n",
              "    0% {\n",
              "      border-color: transparent;\n",
              "      border-bottom-color: var(--fill-color);\n",
              "      border-left-color: var(--fill-color);\n",
              "    }\n",
              "    20% {\n",
              "      border-color: transparent;\n",
              "      border-left-color: var(--fill-color);\n",
              "      border-top-color: var(--fill-color);\n",
              "    }\n",
              "    30% {\n",
              "      border-color: transparent;\n",
              "      border-left-color: var(--fill-color);\n",
              "      border-top-color: var(--fill-color);\n",
              "      border-right-color: var(--fill-color);\n",
              "    }\n",
              "    40% {\n",
              "      border-color: transparent;\n",
              "      border-right-color: var(--fill-color);\n",
              "      border-top-color: var(--fill-color);\n",
              "    }\n",
              "    60% {\n",
              "      border-color: transparent;\n",
              "      border-right-color: var(--fill-color);\n",
              "    }\n",
              "    80% {\n",
              "      border-color: transparent;\n",
              "      border-right-color: var(--fill-color);\n",
              "      border-bottom-color: var(--fill-color);\n",
              "    }\n",
              "    90% {\n",
              "      border-color: transparent;\n",
              "      border-bottom-color: var(--fill-color);\n",
              "    }\n",
              "  }\n",
              "</style>\n",
              "\n",
              "  <script>\n",
              "    async function quickchart(key) {\n",
              "      const quickchartButtonEl =\n",
              "        document.querySelector('#' + key + ' button');\n",
              "      quickchartButtonEl.disabled = true;  // To prevent multiple clicks.\n",
              "      quickchartButtonEl.classList.add('colab-df-spinner');\n",
              "      try {\n",
              "        const charts = await google.colab.kernel.invokeFunction(\n",
              "            'suggestCharts', [key], {});\n",
              "      } catch (error) {\n",
              "        console.error('Error during call to suggestCharts:', error);\n",
              "      }\n",
              "      quickchartButtonEl.classList.remove('colab-df-spinner');\n",
              "      quickchartButtonEl.classList.add('colab-df-quickchart-complete');\n",
              "    }\n",
              "    (() => {\n",
              "      let quickchartButtonEl =\n",
              "        document.querySelector('#df-e2bc9980-6857-439f-848e-56792c82652c button');\n",
              "      quickchartButtonEl.style.display =\n",
              "        google.colab.kernel.accessAllowed ? 'block' : 'none';\n",
              "    })();\n",
              "  </script>\n",
              "</div>\n",
              "    </div>\n",
              "  </div>\n"
            ]
          },
          "metadata": {},
          "execution_count": 122
        }
      ]
    },
    {
      "cell_type": "code",
      "source": [
        "df.columns"
      ],
      "metadata": {
        "colab": {
          "base_uri": "https://localhost:8080/"
        },
        "id": "H3cmJAGFUu9U",
        "outputId": "89d81f4f-e3f8-4bf3-f0da-1fc974a26286"
      },
      "execution_count": 123,
      "outputs": [
        {
          "output_type": "execute_result",
          "data": {
            "text/plain": [
              "Index(['ID', 'Source', 'Severity', 'Start_Time', 'End_Time', 'Start_Lat',\n",
              "       'Start_Lng', 'End_Lat', 'End_Lng', 'Distance(mi)', 'Description',\n",
              "       'Street', 'City', 'County', 'State', 'Zipcode', 'Country', 'Timezone',\n",
              "       'Airport_Code', 'Weather_Timestamp', 'Temperature(F)', 'Wind_Chill(F)',\n",
              "       'Humidity(%)', 'Pressure(in)', 'Visibility(mi)', 'Wind_Direction',\n",
              "       'Wind_Speed(mph)', 'Precipitation(in)', 'Weather_Condition', 'Amenity',\n",
              "       'Bump', 'Crossing', 'Give_Way', 'Junction', 'No_Exit', 'Railway',\n",
              "       'Roundabout', 'Station', 'Stop', 'Traffic_Calming', 'Traffic_Signal',\n",
              "       'Turning_Loop', 'Sunrise_Sunset', 'Civil_Twilight', 'Nautical_Twilight',\n",
              "       'Astronomical_Twilight'],\n",
              "      dtype='object')"
            ]
          },
          "metadata": {},
          "execution_count": 123
        }
      ]
    },
    {
      "cell_type": "code",
      "source": [
        "df.info()"
      ],
      "metadata": {
        "colab": {
          "base_uri": "https://localhost:8080/"
        },
        "id": "kmJFeWJRU-Nd",
        "outputId": "7ae6d59b-fd9f-4b5d-9120-5c692070ec74"
      },
      "execution_count": 124,
      "outputs": [
        {
          "output_type": "stream",
          "name": "stdout",
          "text": [
            "<class 'pandas.core.frame.DataFrame'>\n",
            "RangeIndex: 631652 entries, 0 to 631651\n",
            "Data columns (total 46 columns):\n",
            " #   Column                 Non-Null Count   Dtype  \n",
            "---  ------                 --------------   -----  \n",
            " 0   ID                     631652 non-null  object \n",
            " 1   Source                 631652 non-null  object \n",
            " 2   Severity               631652 non-null  int64  \n",
            " 3   Start_Time             631652 non-null  object \n",
            " 4   End_Time               631652 non-null  object \n",
            " 5   Start_Lat              631652 non-null  float64\n",
            " 6   Start_Lng              631652 non-null  float64\n",
            " 7   End_Lat                0 non-null       float64\n",
            " 8   End_Lng                0 non-null       float64\n",
            " 9   Distance(mi)           631652 non-null  float64\n",
            " 10  Description            631652 non-null  object \n",
            " 11  Street                 630459 non-null  object \n",
            " 12  City                   631630 non-null  object \n",
            " 13  County                 631651 non-null  object \n",
            " 14  State                  631651 non-null  object \n",
            " 15  Zipcode                631581 non-null  object \n",
            " 16  Country                631651 non-null  object \n",
            " 17  Timezone               631479 non-null  object \n",
            " 18  Airport_Code           631194 non-null  object \n",
            " 19  Weather_Timestamp      625957 non-null  object \n",
            " 20  Temperature(F)         621829 non-null  float64\n",
            " 21  Wind_Chill(F)          178517 non-null  float64\n",
            " 22  Humidity(%)            620918 non-null  float64\n",
            " 23  Pressure(in)           624027 non-null  float64\n",
            " 24  Visibility(mi)         618691 non-null  float64\n",
            " 25  Wind_Direction         624855 non-null  object \n",
            " 26  Wind_Speed(mph)        538027 non-null  float64\n",
            " 27  Precipitation(in)      168629 non-null  float64\n",
            " 28  Weather_Condition      619181 non-null  object \n",
            " 29  Amenity                631651 non-null  object \n",
            " 30  Bump                   631651 non-null  object \n",
            " 31  Crossing               631651 non-null  object \n",
            " 32  Give_Way               631651 non-null  object \n",
            " 33  Junction               631651 non-null  object \n",
            " 34  No_Exit                631651 non-null  object \n",
            " 35  Railway                631651 non-null  object \n",
            " 36  Roundabout             631651 non-null  object \n",
            " 37  Station                631651 non-null  object \n",
            " 38  Stop                   631651 non-null  object \n",
            " 39  Traffic_Calming        631651 non-null  object \n",
            " 40  Traffic_Signal         631651 non-null  object \n",
            " 41  Turning_Loop           631651 non-null  object \n",
            " 42  Sunrise_Sunset         630694 non-null  object \n",
            " 43  Civil_Twilight         630694 non-null  object \n",
            " 44  Nautical_Twilight      630694 non-null  object \n",
            " 45  Astronomical_Twilight  630694 non-null  object \n",
            "dtypes: float64(12), int64(1), object(33)\n",
            "memory usage: 221.7+ MB\n"
          ]
        }
      ]
    },
    {
      "cell_type": "code",
      "source": [
        "df.describe()"
      ],
      "metadata": {
        "colab": {
          "base_uri": "https://localhost:8080/",
          "height": 320
        },
        "id": "0C6X4nKCVGc1",
        "outputId": "ae014832-bf5f-45fc-c9ba-d77c6713efe3"
      },
      "execution_count": 125,
      "outputs": [
        {
          "output_type": "execute_result",
          "data": {
            "text/plain": [
              "            Severity      Start_Lat      Start_Lng  End_Lat  End_Lng  \\\n",
              "count  631652.000000  631652.000000  631652.000000      0.0      0.0   \n",
              "mean        2.312056      35.980768     -96.249177      NaN      NaN   \n",
              "std         0.581793       4.984122      17.920890      NaN      NaN   \n",
              "min         1.000000      24.554800    -124.497414      NaN      NaN   \n",
              "25%         2.000000      32.837824    -117.890091      NaN      NaN   \n",
              "50%         2.000000      34.729790     -95.247780      NaN      NaN   \n",
              "75%         3.000000      40.134899     -81.383331      NaN      NaN   \n",
              "max         4.000000      48.997910     -68.283783      NaN      NaN   \n",
              "\n",
              "        Distance(mi)  Temperature(F)  Wind_Chill(F)    Humidity(%)  \\\n",
              "count  631652.000000   621829.000000  178517.000000  620918.000000   \n",
              "mean        0.107832       66.961010      59.518916      64.743406   \n",
              "std         1.140393       16.538094      25.152307      21.501179   \n",
              "min         0.000000      -77.800000     -50.000000       1.000000   \n",
              "25%         0.000000       57.200000      37.000000      49.000000   \n",
              "50%         0.000000       69.100000      68.000000      66.000000   \n",
              "75%         0.010000       79.000000      79.000000      83.000000   \n",
              "max       336.570007      167.000000     115.000000     100.000000   \n",
              "\n",
              "        Pressure(in)  Visibility(mi)  Wind_Speed(mph)  Precipitation(in)  \n",
              "count  624027.000000   618691.000000    538027.000000      168629.000000  \n",
              "mean       29.878076        9.279488         8.453574           0.027814  \n",
              "std         0.554328        2.072770         5.356497           0.347022  \n",
              "min         0.120000        0.000000         0.000000           0.000000  \n",
              "25%        29.840000       10.000000         5.000000           0.000000  \n",
              "50%        29.970000       10.000000         8.000000           0.000000  \n",
              "75%        30.090000       10.000000        11.500000           0.000000  \n",
              "max        58.100000      111.000000       822.800000          36.470000  "
            ],
            "text/html": [
              "\n",
              "  <div id=\"df-f30bdc4a-3a42-4791-89fa-96423e2b7729\" class=\"colab-df-container\">\n",
              "    <div>\n",
              "<style scoped>\n",
              "    .dataframe tbody tr th:only-of-type {\n",
              "        vertical-align: middle;\n",
              "    }\n",
              "\n",
              "    .dataframe tbody tr th {\n",
              "        vertical-align: top;\n",
              "    }\n",
              "\n",
              "    .dataframe thead th {\n",
              "        text-align: right;\n",
              "    }\n",
              "</style>\n",
              "<table border=\"1\" class=\"dataframe\">\n",
              "  <thead>\n",
              "    <tr style=\"text-align: right;\">\n",
              "      <th></th>\n",
              "      <th>Severity</th>\n",
              "      <th>Start_Lat</th>\n",
              "      <th>Start_Lng</th>\n",
              "      <th>End_Lat</th>\n",
              "      <th>End_Lng</th>\n",
              "      <th>Distance(mi)</th>\n",
              "      <th>Temperature(F)</th>\n",
              "      <th>Wind_Chill(F)</th>\n",
              "      <th>Humidity(%)</th>\n",
              "      <th>Pressure(in)</th>\n",
              "      <th>Visibility(mi)</th>\n",
              "      <th>Wind_Speed(mph)</th>\n",
              "      <th>Precipitation(in)</th>\n",
              "    </tr>\n",
              "  </thead>\n",
              "  <tbody>\n",
              "    <tr>\n",
              "      <th>count</th>\n",
              "      <td>631652.000000</td>\n",
              "      <td>631652.000000</td>\n",
              "      <td>631652.000000</td>\n",
              "      <td>0.0</td>\n",
              "      <td>0.0</td>\n",
              "      <td>631652.000000</td>\n",
              "      <td>621829.000000</td>\n",
              "      <td>178517.000000</td>\n",
              "      <td>620918.000000</td>\n",
              "      <td>624027.000000</td>\n",
              "      <td>618691.000000</td>\n",
              "      <td>538027.000000</td>\n",
              "      <td>168629.000000</td>\n",
              "    </tr>\n",
              "    <tr>\n",
              "      <th>mean</th>\n",
              "      <td>2.312056</td>\n",
              "      <td>35.980768</td>\n",
              "      <td>-96.249177</td>\n",
              "      <td>NaN</td>\n",
              "      <td>NaN</td>\n",
              "      <td>0.107832</td>\n",
              "      <td>66.961010</td>\n",
              "      <td>59.518916</td>\n",
              "      <td>64.743406</td>\n",
              "      <td>29.878076</td>\n",
              "      <td>9.279488</td>\n",
              "      <td>8.453574</td>\n",
              "      <td>0.027814</td>\n",
              "    </tr>\n",
              "    <tr>\n",
              "      <th>std</th>\n",
              "      <td>0.581793</td>\n",
              "      <td>4.984122</td>\n",
              "      <td>17.920890</td>\n",
              "      <td>NaN</td>\n",
              "      <td>NaN</td>\n",
              "      <td>1.140393</td>\n",
              "      <td>16.538094</td>\n",
              "      <td>25.152307</td>\n",
              "      <td>21.501179</td>\n",
              "      <td>0.554328</td>\n",
              "      <td>2.072770</td>\n",
              "      <td>5.356497</td>\n",
              "      <td>0.347022</td>\n",
              "    </tr>\n",
              "    <tr>\n",
              "      <th>min</th>\n",
              "      <td>1.000000</td>\n",
              "      <td>24.554800</td>\n",
              "      <td>-124.497414</td>\n",
              "      <td>NaN</td>\n",
              "      <td>NaN</td>\n",
              "      <td>0.000000</td>\n",
              "      <td>-77.800000</td>\n",
              "      <td>-50.000000</td>\n",
              "      <td>1.000000</td>\n",
              "      <td>0.120000</td>\n",
              "      <td>0.000000</td>\n",
              "      <td>0.000000</td>\n",
              "      <td>0.000000</td>\n",
              "    </tr>\n",
              "    <tr>\n",
              "      <th>25%</th>\n",
              "      <td>2.000000</td>\n",
              "      <td>32.837824</td>\n",
              "      <td>-117.890091</td>\n",
              "      <td>NaN</td>\n",
              "      <td>NaN</td>\n",
              "      <td>0.000000</td>\n",
              "      <td>57.200000</td>\n",
              "      <td>37.000000</td>\n",
              "      <td>49.000000</td>\n",
              "      <td>29.840000</td>\n",
              "      <td>10.000000</td>\n",
              "      <td>5.000000</td>\n",
              "      <td>0.000000</td>\n",
              "    </tr>\n",
              "    <tr>\n",
              "      <th>50%</th>\n",
              "      <td>2.000000</td>\n",
              "      <td>34.729790</td>\n",
              "      <td>-95.247780</td>\n",
              "      <td>NaN</td>\n",
              "      <td>NaN</td>\n",
              "      <td>0.000000</td>\n",
              "      <td>69.100000</td>\n",
              "      <td>68.000000</td>\n",
              "      <td>66.000000</td>\n",
              "      <td>29.970000</td>\n",
              "      <td>10.000000</td>\n",
              "      <td>8.000000</td>\n",
              "      <td>0.000000</td>\n",
              "    </tr>\n",
              "    <tr>\n",
              "      <th>75%</th>\n",
              "      <td>3.000000</td>\n",
              "      <td>40.134899</td>\n",
              "      <td>-81.383331</td>\n",
              "      <td>NaN</td>\n",
              "      <td>NaN</td>\n",
              "      <td>0.010000</td>\n",
              "      <td>79.000000</td>\n",
              "      <td>79.000000</td>\n",
              "      <td>83.000000</td>\n",
              "      <td>30.090000</td>\n",
              "      <td>10.000000</td>\n",
              "      <td>11.500000</td>\n",
              "      <td>0.000000</td>\n",
              "    </tr>\n",
              "    <tr>\n",
              "      <th>max</th>\n",
              "      <td>4.000000</td>\n",
              "      <td>48.997910</td>\n",
              "      <td>-68.283783</td>\n",
              "      <td>NaN</td>\n",
              "      <td>NaN</td>\n",
              "      <td>336.570007</td>\n",
              "      <td>167.000000</td>\n",
              "      <td>115.000000</td>\n",
              "      <td>100.000000</td>\n",
              "      <td>58.100000</td>\n",
              "      <td>111.000000</td>\n",
              "      <td>822.800000</td>\n",
              "      <td>36.470000</td>\n",
              "    </tr>\n",
              "  </tbody>\n",
              "</table>\n",
              "</div>\n",
              "    <div class=\"colab-df-buttons\">\n",
              "\n",
              "  <div class=\"colab-df-container\">\n",
              "    <button class=\"colab-df-convert\" onclick=\"convertToInteractive('df-f30bdc4a-3a42-4791-89fa-96423e2b7729')\"\n",
              "            title=\"Convert this dataframe to an interactive table.\"\n",
              "            style=\"display:none;\">\n",
              "\n",
              "  <svg xmlns=\"http://www.w3.org/2000/svg\" height=\"24px\" viewBox=\"0 -960 960 960\">\n",
              "    <path d=\"M120-120v-720h720v720H120Zm60-500h600v-160H180v160Zm220 220h160v-160H400v160Zm0 220h160v-160H400v160ZM180-400h160v-160H180v160Zm440 0h160v-160H620v160ZM180-180h160v-160H180v160Zm440 0h160v-160H620v160Z\"/>\n",
              "  </svg>\n",
              "    </button>\n",
              "\n",
              "  <style>\n",
              "    .colab-df-container {\n",
              "      display:flex;\n",
              "      gap: 12px;\n",
              "    }\n",
              "\n",
              "    .colab-df-convert {\n",
              "      background-color: #E8F0FE;\n",
              "      border: none;\n",
              "      border-radius: 50%;\n",
              "      cursor: pointer;\n",
              "      display: none;\n",
              "      fill: #1967D2;\n",
              "      height: 32px;\n",
              "      padding: 0 0 0 0;\n",
              "      width: 32px;\n",
              "    }\n",
              "\n",
              "    .colab-df-convert:hover {\n",
              "      background-color: #E2EBFA;\n",
              "      box-shadow: 0px 1px 2px rgba(60, 64, 67, 0.3), 0px 1px 3px 1px rgba(60, 64, 67, 0.15);\n",
              "      fill: #174EA6;\n",
              "    }\n",
              "\n",
              "    .colab-df-buttons div {\n",
              "      margin-bottom: 4px;\n",
              "    }\n",
              "\n",
              "    [theme=dark] .colab-df-convert {\n",
              "      background-color: #3B4455;\n",
              "      fill: #D2E3FC;\n",
              "    }\n",
              "\n",
              "    [theme=dark] .colab-df-convert:hover {\n",
              "      background-color: #434B5C;\n",
              "      box-shadow: 0px 1px 3px 1px rgba(0, 0, 0, 0.15);\n",
              "      filter: drop-shadow(0px 1px 2px rgba(0, 0, 0, 0.3));\n",
              "      fill: #FFFFFF;\n",
              "    }\n",
              "  </style>\n",
              "\n",
              "    <script>\n",
              "      const buttonEl =\n",
              "        document.querySelector('#df-f30bdc4a-3a42-4791-89fa-96423e2b7729 button.colab-df-convert');\n",
              "      buttonEl.style.display =\n",
              "        google.colab.kernel.accessAllowed ? 'block' : 'none';\n",
              "\n",
              "      async function convertToInteractive(key) {\n",
              "        const element = document.querySelector('#df-f30bdc4a-3a42-4791-89fa-96423e2b7729');\n",
              "        const dataTable =\n",
              "          await google.colab.kernel.invokeFunction('convertToInteractive',\n",
              "                                                    [key], {});\n",
              "        if (!dataTable) return;\n",
              "\n",
              "        const docLinkHtml = 'Like what you see? Visit the ' +\n",
              "          '<a target=\"_blank\" href=https://colab.research.google.com/notebooks/data_table.ipynb>data table notebook</a>'\n",
              "          + ' to learn more about interactive tables.';\n",
              "        element.innerHTML = '';\n",
              "        dataTable['output_type'] = 'display_data';\n",
              "        await google.colab.output.renderOutput(dataTable, element);\n",
              "        const docLink = document.createElement('div');\n",
              "        docLink.innerHTML = docLinkHtml;\n",
              "        element.appendChild(docLink);\n",
              "      }\n",
              "    </script>\n",
              "  </div>\n",
              "\n",
              "\n",
              "<div id=\"df-94ea5947-74e4-458a-9d67-657fe9c15be4\">\n",
              "  <button class=\"colab-df-quickchart\" onclick=\"quickchart('df-94ea5947-74e4-458a-9d67-657fe9c15be4')\"\n",
              "            title=\"Suggest charts\"\n",
              "            style=\"display:none;\">\n",
              "\n",
              "<svg xmlns=\"http://www.w3.org/2000/svg\" height=\"24px\"viewBox=\"0 0 24 24\"\n",
              "     width=\"24px\">\n",
              "    <g>\n",
              "        <path d=\"M19 3H5c-1.1 0-2 .9-2 2v14c0 1.1.9 2 2 2h14c1.1 0 2-.9 2-2V5c0-1.1-.9-2-2-2zM9 17H7v-7h2v7zm4 0h-2V7h2v10zm4 0h-2v-4h2v4z\"/>\n",
              "    </g>\n",
              "</svg>\n",
              "  </button>\n",
              "\n",
              "<style>\n",
              "  .colab-df-quickchart {\n",
              "      --bg-color: #E8F0FE;\n",
              "      --fill-color: #1967D2;\n",
              "      --hover-bg-color: #E2EBFA;\n",
              "      --hover-fill-color: #174EA6;\n",
              "      --disabled-fill-color: #AAA;\n",
              "      --disabled-bg-color: #DDD;\n",
              "  }\n",
              "\n",
              "  [theme=dark] .colab-df-quickchart {\n",
              "      --bg-color: #3B4455;\n",
              "      --fill-color: #D2E3FC;\n",
              "      --hover-bg-color: #434B5C;\n",
              "      --hover-fill-color: #FFFFFF;\n",
              "      --disabled-bg-color: #3B4455;\n",
              "      --disabled-fill-color: #666;\n",
              "  }\n",
              "\n",
              "  .colab-df-quickchart {\n",
              "    background-color: var(--bg-color);\n",
              "    border: none;\n",
              "    border-radius: 50%;\n",
              "    cursor: pointer;\n",
              "    display: none;\n",
              "    fill: var(--fill-color);\n",
              "    height: 32px;\n",
              "    padding: 0;\n",
              "    width: 32px;\n",
              "  }\n",
              "\n",
              "  .colab-df-quickchart:hover {\n",
              "    background-color: var(--hover-bg-color);\n",
              "    box-shadow: 0 1px 2px rgba(60, 64, 67, 0.3), 0 1px 3px 1px rgba(60, 64, 67, 0.15);\n",
              "    fill: var(--button-hover-fill-color);\n",
              "  }\n",
              "\n",
              "  .colab-df-quickchart-complete:disabled,\n",
              "  .colab-df-quickchart-complete:disabled:hover {\n",
              "    background-color: var(--disabled-bg-color);\n",
              "    fill: var(--disabled-fill-color);\n",
              "    box-shadow: none;\n",
              "  }\n",
              "\n",
              "  .colab-df-spinner {\n",
              "    border: 2px solid var(--fill-color);\n",
              "    border-color: transparent;\n",
              "    border-bottom-color: var(--fill-color);\n",
              "    animation:\n",
              "      spin 1s steps(1) infinite;\n",
              "  }\n",
              "\n",
              "  @keyframes spin {\n",
              "    0% {\n",
              "      border-color: transparent;\n",
              "      border-bottom-color: var(--fill-color);\n",
              "      border-left-color: var(--fill-color);\n",
              "    }\n",
              "    20% {\n",
              "      border-color: transparent;\n",
              "      border-left-color: var(--fill-color);\n",
              "      border-top-color: var(--fill-color);\n",
              "    }\n",
              "    30% {\n",
              "      border-color: transparent;\n",
              "      border-left-color: var(--fill-color);\n",
              "      border-top-color: var(--fill-color);\n",
              "      border-right-color: var(--fill-color);\n",
              "    }\n",
              "    40% {\n",
              "      border-color: transparent;\n",
              "      border-right-color: var(--fill-color);\n",
              "      border-top-color: var(--fill-color);\n",
              "    }\n",
              "    60% {\n",
              "      border-color: transparent;\n",
              "      border-right-color: var(--fill-color);\n",
              "    }\n",
              "    80% {\n",
              "      border-color: transparent;\n",
              "      border-right-color: var(--fill-color);\n",
              "      border-bottom-color: var(--fill-color);\n",
              "    }\n",
              "    90% {\n",
              "      border-color: transparent;\n",
              "      border-bottom-color: var(--fill-color);\n",
              "    }\n",
              "  }\n",
              "</style>\n",
              "\n",
              "  <script>\n",
              "    async function quickchart(key) {\n",
              "      const quickchartButtonEl =\n",
              "        document.querySelector('#' + key + ' button');\n",
              "      quickchartButtonEl.disabled = true;  // To prevent multiple clicks.\n",
              "      quickchartButtonEl.classList.add('colab-df-spinner');\n",
              "      try {\n",
              "        const charts = await google.colab.kernel.invokeFunction(\n",
              "            'suggestCharts', [key], {});\n",
              "      } catch (error) {\n",
              "        console.error('Error during call to suggestCharts:', error);\n",
              "      }\n",
              "      quickchartButtonEl.classList.remove('colab-df-spinner');\n",
              "      quickchartButtonEl.classList.add('colab-df-quickchart-complete');\n",
              "    }\n",
              "    (() => {\n",
              "      let quickchartButtonEl =\n",
              "        document.querySelector('#df-94ea5947-74e4-458a-9d67-657fe9c15be4 button');\n",
              "      quickchartButtonEl.style.display =\n",
              "        google.colab.kernel.accessAllowed ? 'block' : 'none';\n",
              "    })();\n",
              "  </script>\n",
              "</div>\n",
              "    </div>\n",
              "  </div>\n"
            ]
          },
          "metadata": {},
          "execution_count": 125
        }
      ]
    },
    {
      "cell_type": "markdown",
      "source": [
        "### Question?\n",
        "1. Are there more accidents in warmer or colder areas\n",
        "2. Which 5 states have the highest number of accidents?"
      ],
      "metadata": {
        "id": "mVX29YBSWAPp"
      }
    },
    {
      "cell_type": "code",
      "source": [
        "numerics = ['int16', 'int32', 'int64', 'float16', 'float32', 'float64']\n",
        "numerics_df = df.select_dtypes(include=numerics)\n",
        "len(numerics_df.columns)"
      ],
      "metadata": {
        "colab": {
          "base_uri": "https://localhost:8080/"
        },
        "id": "g3P5Ih8QWE9F",
        "outputId": "b477ab40-bc86-4474-8d09-dd48e118a3ae"
      },
      "execution_count": 126,
      "outputs": [
        {
          "output_type": "execute_result",
          "data": {
            "text/plain": [
              "13"
            ]
          },
          "metadata": {},
          "execution_count": 126
        }
      ]
    },
    {
      "cell_type": "markdown",
      "source": [
        "# Missing Values"
      ],
      "metadata": {
        "id": "wDe1N7nQXaAD"
      }
    },
    {
      "cell_type": "code",
      "source": [
        "missing_per = df.isnull().sum().sort_values(ascending=False) / len(df)\n",
        "missing_per"
      ],
      "metadata": {
        "colab": {
          "base_uri": "https://localhost:8080/"
        },
        "id": "aQlTv2qOXdxn",
        "outputId": "2abc9b4b-5e66-4839-c02c-269d938a2e07"
      },
      "execution_count": 127,
      "outputs": [
        {
          "output_type": "execute_result",
          "data": {
            "text/plain": [
              "End_Lat                  1.000000\n",
              "End_Lng                  1.000000\n",
              "Precipitation(in)        0.733035\n",
              "Wind_Chill(F)            0.717381\n",
              "Wind_Speed(mph)          0.148222\n",
              "Visibility(mi)           0.020519\n",
              "Weather_Condition        0.019743\n",
              "Humidity(%)              0.016994\n",
              "Temperature(F)           0.015551\n",
              "Pressure(in)             0.012072\n",
              "Wind_Direction           0.010761\n",
              "Weather_Timestamp        0.009016\n",
              "Street                   0.001889\n",
              "Nautical_Twilight        0.001517\n",
              "Civil_Twilight           0.001517\n",
              "Sunrise_Sunset           0.001517\n",
              "Astronomical_Twilight    0.001517\n",
              "Airport_Code             0.000725\n",
              "Timezone                 0.000274\n",
              "Zipcode                  0.000112\n",
              "City                     0.000035\n",
              "Turning_Loop             0.000002\n",
              "Traffic_Signal           0.000002\n",
              "Traffic_Calming          0.000002\n",
              "Stop                     0.000002\n",
              "Station                  0.000002\n",
              "Roundabout               0.000002\n",
              "Railway                  0.000002\n",
              "No_Exit                  0.000002\n",
              "Junction                 0.000002\n",
              "Give_Way                 0.000002\n",
              "Crossing                 0.000002\n",
              "Bump                     0.000002\n",
              "Amenity                  0.000002\n",
              "County                   0.000002\n",
              "State                    0.000002\n",
              "Country                  0.000002\n",
              "Start_Lat                0.000000\n",
              "Start_Lng                0.000000\n",
              "Distance(mi)             0.000000\n",
              "Description              0.000000\n",
              "Source                   0.000000\n",
              "End_Time                 0.000000\n",
              "Start_Time               0.000000\n",
              "Severity                 0.000000\n",
              "ID                       0.000000\n",
              "dtype: float64"
            ]
          },
          "metadata": {},
          "execution_count": 127
        }
      ]
    },
    {
      "cell_type": "code",
      "source": [
        "type(missing_per)"
      ],
      "metadata": {
        "colab": {
          "base_uri": "https://localhost:8080/"
        },
        "id": "PgDO-ucRXjx9",
        "outputId": "a8b0a9a0-915b-4dd1-92b0-bf536af6ef93"
      },
      "execution_count": 128,
      "outputs": [
        {
          "output_type": "execute_result",
          "data": {
            "text/plain": [
              "pandas.core.series.Series"
            ]
          },
          "metadata": {},
          "execution_count": 128
        }
      ]
    },
    {
      "cell_type": "code",
      "source": [
        "missing_per[missing_per != 0].plot(kind='barh')"
      ],
      "metadata": {
        "colab": {
          "base_uri": "https://localhost:8080/",
          "height": 447
        },
        "id": "42lV6R9CY7VC",
        "outputId": "9cf33cc7-ae36-4b57-dfa8-9d9eb856d1f4"
      },
      "execution_count": 129,
      "outputs": [
        {
          "output_type": "execute_result",
          "data": {
            "text/plain": [
              "<Axes: >"
            ]
          },
          "metadata": {},
          "execution_count": 129
        },
        {
          "output_type": "display_data",
          "data": {
            "text/plain": [
              "<Figure size 640x480 with 1 Axes>"
            ],
            "image/png": "[encoded data removed]"
          },
          "metadata": {}
        }
      ]
    },
    {
      "cell_type": "markdown",
      "source": [
        "# Exploratory Data Analysis and Visualization"
      ],
      "metadata": {
        "id": "3SPY2AGei81l"
      }
    },
    {
      "cell_type": "markdown",
      "source": [
        "Col; Used for analysis\n",
        "1. City\n",
        "2. Start Time\n",
        "3. Start Lat, Start Lng\n",
        "4. Temperature\n",
        "5. Weather Condition"
      ],
      "metadata": {
        "id": "ji5Ha79yV5PM"
      }
    },
    {
      "cell_type": "markdown",
      "source": [
        "##City col"
      ],
      "metadata": {
        "id": "4W8FjZqOWCv_"
      }
    },
    {
      "cell_type": "code",
      "source": [
        "df.City"
      ],
      "metadata": {
        "colab": {
          "base_uri": "https://localhost:8080/"
        },
        "id": "8CU77Fk4WHsD",
        "outputId": "be0efc0e-a8c4-471d-e508-4b3b505009f2"
      },
      "execution_count": 130,
      "outputs": [
        {
          "output_type": "execute_result",
          "data": {
            "text/plain": [
              "0               Dayton\n",
              "1         Reynoldsburg\n",
              "2         Williamsburg\n",
              "3               Dayton\n",
              "4               Dayton\n",
              "              ...     \n",
              "631647           Tulsa\n",
              "631648         Houston\n",
              "631649          Porter\n",
              "631650          Edmond\n",
              "631651              St\n",
              "Name: City, Length: 631652, dtype: object"
            ]
          },
          "metadata": {},
          "execution_count": 130
        }
      ]
    },
    {
      "cell_type": "code",
      "source": [
        "cities = df.City.unique()\n",
        "len(cities)"
      ],
      "metadata": {
        "colab": {
          "base_uri": "https://localhost:8080/"
        },
        "id": "9ZgLGoR3kz69",
        "outputId": "fb38ea3d-16e5-4d58-a5da-fbfea999d39b"
      },
      "execution_count": 131,
      "outputs": [
        {
          "output_type": "execute_result",
          "data": {
            "text/plain": [
              "7095"
            ]
          },
          "metadata": {},
          "execution_count": 131
        }
      ]
    },
    {
      "cell_type": "code",
      "source": [
        "cities_by_accident = df.City.value_counts()\n",
        "cities_by_accident"
      ],
      "metadata": {
        "colab": {
          "base_uri": "https://localhost:8080/"
        },
        "id": "WKryEwgrlIcp",
        "outputId": "b34bdca6-e574-43f3-c544-4eb2aa44b1eb"
      },
      "execution_count": 132,
      "outputs": [
        {
          "output_type": "execute_result",
          "data": {
            "text/plain": [
              "Houston         29907\n",
              "Dallas          21117\n",
              "Los Angeles     20792\n",
              "Austin          20329\n",
              "Atlanta         10826\n",
              "                ...  \n",
              "Seligman            1\n",
              "Niota               1\n",
              "Hamptonville        1\n",
              "East Norwich        1\n",
              "St                  1\n",
              "Name: City, Length: 7094, dtype: int64"
            ]
          },
          "metadata": {},
          "execution_count": 132
        }
      ]
    },
    {
      "cell_type": "code",
      "source": [
        "cities_by_accident[:10] #Top 10 cities"
      ],
      "metadata": {
        "colab": {
          "base_uri": "https://localhost:8080/"
        },
        "id": "o4sDfGIBlGee",
        "outputId": "6a19295c-9a60-49e9-bf7a-228e35d52268"
      },
      "execution_count": 133,
      "outputs": [
        {
          "output_type": "execute_result",
          "data": {
            "text/plain": [
              "Houston        29907\n",
              "Dallas         21117\n",
              "Los Angeles    20792\n",
              "Austin         20329\n",
              "Atlanta        10826\n",
              "Sacramento      8698\n",
              "Orlando         8312\n",
              "Miami           7613\n",
              "Omaha           7269\n",
              "San Diego       6883\n",
              "Name: City, dtype: int64"
            ]
          },
          "metadata": {},
          "execution_count": 133
        }
      ]
    },
    {
      "cell_type": "code",
      "source": [
        "cities_by_accident[:20].plot(kind='barh')"
      ],
      "metadata": {
        "colab": {
          "base_uri": "https://localhost:8080/",
          "height": 447
        },
        "id": "Zm1EAgtDmUfB",
        "outputId": "cecaa3b7-fe19-4cd2-baf9-e1c54af1f417"
      },
      "execution_count": 134,
      "outputs": [
        {
          "output_type": "execute_result",
          "data": {
            "text/plain": [
              "<Axes: >"
            ]
          },
          "metadata": {},
          "execution_count": 134
        },
        {
          "output_type": "display_data",
          "data": {
            "text/plain": [
              "<Figure size 640x480 with 1 Axes>"
            ],
            "image/png": "[encoded data removed]"
          },
          "metadata": {}
        }
      ]
    },
    {
      "cell_type": "code",
      "source": [
        "import seaborn as sns\n",
        "sns.set_style(\"darkgrid\")"
      ],
      "metadata": {
        "id": "_c8LyUbzm0cs"
      },
      "execution_count": 135,
      "outputs": []
    },
    {
      "cell_type": "code",
      "source": [
        "sns.histplot(cities_by_accident, log_scale=True)"
      ],
      "metadata": {
        "colab": {
          "base_uri": "https://localhost:8080/",
          "height": 471
        },
        "id": "7lrCxMHZnITv",
        "outputId": "596fd32f-5589-42c9-8b3c-4f9d51a13cf3"
      },
      "execution_count": 136,
      "outputs": [
        {
          "output_type": "execute_result",
          "data": {
            "text/plain": [
              "<Axes: xlabel='City', ylabel='Count'>"
            ]
          },
          "metadata": {},
          "execution_count": 136
        },
        {
          "output_type": "display_data",
          "data": {
            "text/plain": [
              "<Figure size 640x480 with 1 Axes>"
            ],
            "image/png": "[encoded data removed]"
          },
          "metadata": {}
        }
      ]
    },
    {
      "cell_type": "code",
      "source": [
        "type(cities_by_accident)"
      ],
      "metadata": {
        "colab": {
          "base_uri": "https://localhost:8080/"
        },
        "id": "Pj83AHOt8jcv",
        "outputId": "896e985b-389a-40f1-cc54-86ebdcdaeaf1"
      },
      "execution_count": 137,
      "outputs": [
        {
          "output_type": "execute_result",
          "data": {
            "text/plain": [
              "pandas.core.series.Series"
            ]
          },
          "metadata": {},
          "execution_count": 137
        }
      ]
    },
    {
      "cell_type": "code",
      "source": [
        "cities_by_accident[cities_by_accident == 1]"
      ],
      "metadata": {
        "colab": {
          "base_uri": "https://localhost:8080/"
        },
        "id": "fIlx3TJgWhRf",
        "outputId": "3324eb66-8388-4f4b-8d64-26d07eb72c7f"
      },
      "execution_count": 138,
      "outputs": [
        {
          "output_type": "execute_result",
          "data": {
            "text/plain": [
              "Ellerbe         1\n",
              "Fortville       1\n",
              "Caro            1\n",
              "Olive Hill      1\n",
              "Orosi           1\n",
              "               ..\n",
              "Seligman        1\n",
              "Niota           1\n",
              "Hamptonville    1\n",
              "East Norwich    1\n",
              "St              1\n",
              "Name: City, Length: 1467, dtype: int64"
            ]
          },
          "metadata": {},
          "execution_count": 138
        }
      ]
    },
    {
      "cell_type": "markdown",
      "source": [
        "## Start_Time col"
      ],
      "metadata": {
        "id": "rmHtvU6YWksw"
      }
    },
    {
      "cell_type": "code",
      "source": [
        "df.Start_Time"
      ],
      "metadata": {
        "colab": {
          "base_uri": "https://localhost:8080/"
        },
        "id": "WN2VNePfWhT_",
        "outputId": "1e1404f3-2d68-4b5e-fed6-605f58e608d4"
      },
      "execution_count": 139,
      "outputs": [
        {
          "output_type": "execute_result",
          "data": {
            "text/plain": [
              "0         2016-02-08 05:46:00\n",
              "1         2016-02-08 06:07:59\n",
              "2         2016-02-08 06:49:27\n",
              "3         2016-02-08 07:23:34\n",
              "4         2016-02-08 07:39:07\n",
              "                 ...         \n",
              "631647    2022-04-22 09:43:01\n",
              "631648    2022-04-22 07:39:08\n",
              "631649    2022-04-22 09:48:37\n",
              "631650    2022-04-22 09:54:11\n",
              "631651    2022-04-22 07:51:41\n",
              "Name: Start_Time, Length: 631652, dtype: object"
            ]
          },
          "metadata": {},
          "execution_count": 139
        }
      ]
    },
    {
      "cell_type": "code",
      "source": [
        "df.Start_Time = pd.to_datetime(df.Start_Time)"
      ],
      "metadata": {
        "id": "08LfTznXWhWt"
      },
      "execution_count": 140,
      "outputs": []
    },
    {
      "cell_type": "code",
      "source": [
        "sns.distplot(df.Start_Time.dt.hour, bins=24, kde=False, norm_hist=True)"
      ],
      "metadata": {
        "colab": {
          "base_uri": "https://localhost:8080/",
          "height": 658
        },
        "id": "OtdNntoqWtlJ",
        "outputId": "71985da8-abb3-4e76-9725-1c125a87529f"
      },
      "execution_count": 141,
      "outputs": [
        {
          "output_type": "stream",
          "name": "stderr",
          "text": [
            "<ipython-input-141-cecb2f6b7498>:1: UserWarning: \n",
            "\n",
            "`distplot` is a deprecated function and will be removed in seaborn v0.14.0.\n",
            "\n",
            "Please adapt your code to use either `displot` (a figure-level function with\n",
            "similar flexibility) or `histplot` (an axes-level function for histograms).\n",
            "\n",
            "For a guide to updating your code to use the new functions, please see\n",
            "https://gist.github.com/mwaskom/de44147ed2974457ad6372750bbe5751\n",
            "\n",
            "  sns.distplot(df.Start_Time.dt.hour, bins=24, kde=False, norm_hist=True)\n"
          ]
        },
        {
          "output_type": "execute_result",
          "data": {
            "text/plain": [
              "<Axes: xlabel='Start_Time'>"
            ]
          },
          "metadata": {},
          "execution_count": 141
        },
        {
          "output_type": "display_data",
          "data": {
            "text/plain": [
              "<Figure size 640x480 with 1 Axes>"
            ],
            "image/png": "[encoded data removed]"
          },
          "metadata": {}
        }
      ]
    },
    {
      "cell_type": "markdown",
      "source": [
        "### Observation:\n",
        "1. A hight number of accidents occur between 6 am to 10 am in the morning\n",
        "2. The next high was between 3pm to 6pm"
      ],
      "metadata": {
        "id": "cfVeEIM1WyMd"
      }
    },
    {
      "cell_type": "code",
      "source": [
        "sns.distplot(df.Start_Time.dt.dayofweek, bins=7, kde=False, norm_hist=True)"
      ],
      "metadata": {
        "colab": {
          "base_uri": "https://localhost:8080/",
          "height": 658
        },
        "id": "uNUiHKruWu6i",
        "outputId": "ac6e5c4f-9cd1-4e1e-d463-ed1ca57b93f3"
      },
      "execution_count": 142,
      "outputs": [
        {
          "output_type": "stream",
          "name": "stderr",
          "text": [
            "<ipython-input-142-019c7ea578c3>:1: UserWarning: \n",
            "\n",
            "`distplot` is a deprecated function and will be removed in seaborn v0.14.0.\n",
            "\n",
            "Please adapt your code to use either `displot` (a figure-level function with\n",
            "similar flexibility) or `histplot` (an axes-level function for histograms).\n",
            "\n",
            "For a guide to updating your code to use the new functions, please see\n",
            "https://gist.github.com/mwaskom/de44147ed2974457ad6372750bbe5751\n",
            "\n",
            "  sns.distplot(df.Start_Time.dt.dayofweek, bins=7, kde=False, norm_hist=True)\n"
          ]
        },
        {
          "output_type": "execute_result",
          "data": {
            "text/plain": [
              "<Axes: xlabel='Start_Time'>"
            ]
          },
          "metadata": {},
          "execution_count": 142
        },
        {
          "output_type": "display_data",
          "data": {
            "text/plain": [
              "<Figure size 640x480 with 1 Axes>"
            ],
            "image/png": "[encoded data removed]"
          },
          "metadata": {}
        }
      ]
    },
    {
      "cell_type": "markdown",
      "source": [
        "### Observation:\n",
        "The number of accidents by hours was hight in weekdays than weekends"
      ],
      "metadata": {
        "id": "albt0Mo0XKzl"
      }
    },
    {
      "cell_type": "code",
      "source": [
        "sundays_start_time = df.Start_Time[df.Start_Time.dt.dayofweek == 6]\n",
        "sns.distplot(sundays_start_time.dt.hour, bins=24, kde=False, norm_hist=True)"
      ],
      "metadata": {
        "colab": {
          "base_uri": "https://localhost:8080/",
          "height": 658
        },
        "id": "yM8tTg6uXJVU",
        "outputId": "cb8f561e-f66d-426a-989e-a3152d2599df"
      },
      "execution_count": 143,
      "outputs": [
        {
          "output_type": "stream",
          "name": "stderr",
          "text": [
            "<ipython-input-143-6d10f1b09e8f>:2: UserWarning: \n",
            "\n",
            "`distplot` is a deprecated function and will be removed in seaborn v0.14.0.\n",
            "\n",
            "Please adapt your code to use either `displot` (a figure-level function with\n",
            "similar flexibility) or `histplot` (an axes-level function for histograms).\n",
            "\n",
            "For a guide to updating your code to use the new functions, please see\n",
            "https://gist.github.com/mwaskom/de44147ed2974457ad6372750bbe5751\n",
            "\n",
            "  sns.distplot(sundays_start_time.dt.hour, bins=24, kde=False, norm_hist=True)\n"
          ]
        },
        {
          "output_type": "execute_result",
          "data": {
            "text/plain": [
              "<Axes: xlabel='Start_Time'>"
            ]
          },
          "metadata": {},
          "execution_count": 143
        },
        {
          "output_type": "display_data",
          "data": {
            "text/plain": [
              "<Figure size 640x480 with 1 Axes>"
            ],
            "image/png": "[encoded data removed]"
          },
          "metadata": {}
        }
      ]
    },
    {
      "cell_type": "code",
      "source": [
        "monday_start_time = df.Start_Time[df.Start_Time.dt.dayofweek == 0]\n",
        "sns.distplot(monday_start_time.dt.hour, bins=24, kde=False, norm_hist=True)"
      ],
      "metadata": {
        "colab": {
          "base_uri": "https://localhost:8080/",
          "height": 658
        },
        "id": "FCKm501dXbjW",
        "outputId": "7f30c9f1-8f51-4e84-c5dd-7a4522db2199"
      },
      "execution_count": 144,
      "outputs": [
        {
          "output_type": "stream",
          "name": "stderr",
          "text": [
            "<ipython-input-144-a0c386feb2b8>:2: UserWarning: \n",
            "\n",
            "`distplot` is a deprecated function and will be removed in seaborn v0.14.0.\n",
            "\n",
            "Please adapt your code to use either `displot` (a figure-level function with\n",
            "similar flexibility) or `histplot` (an axes-level function for histograms).\n",
            "\n",
            "For a guide to updating your code to use the new functions, please see\n",
            "https://gist.github.com/mwaskom/de44147ed2974457ad6372750bbe5751\n",
            "\n",
            "  sns.distplot(monday_start_time.dt.hour, bins=24, kde=False, norm_hist=True)\n"
          ]
        },
        {
          "output_type": "execute_result",
          "data": {
            "text/plain": [
              "<Axes: xlabel='Start_Time'>"
            ]
          },
          "metadata": {},
          "execution_count": 144
        },
        {
          "output_type": "display_data",
          "data": {
            "text/plain": [
              "<Figure size 640x480 with 1 Axes>"
            ],
            "image/png": "[encoded data removed]"
          },
          "metadata": {}
        }
      ]
    },
    {
      "cell_type": "markdown",
      "source": [
        "### Observation:\n",
        "On sunday, the peak was between 10am to 3pm, unlike weekdays"
      ],
      "metadata": {
        "id": "rbCCqemZXmn_"
      }
    },
    {
      "cell_type": "code",
      "source": [
        "df.Start_Lat"
      ],
      "metadata": {
        "colab": {
          "base_uri": "https://localhost:8080/"
        },
        "id": "v18aEfYlYNQR",
        "outputId": "bec2315b-6640-49ee-a0b1-d8e9b77270dc"
      },
      "execution_count": 145,
      "outputs": [
        {
          "output_type": "execute_result",
          "data": {
            "text/plain": [
              "0         39.865147\n",
              "1         39.928059\n",
              "2         39.063148\n",
              "3         39.747753\n",
              "4         39.627781\n",
              "            ...    \n",
              "631647    36.184700\n",
              "631648    29.661791\n",
              "631649    30.105600\n",
              "631650    35.652729\n",
              "631651    37.801731\n",
              "Name: Start_Lat, Length: 631652, dtype: float64"
            ]
          },
          "metadata": {},
          "execution_count": 145
        }
      ]
    },
    {
      "cell_type": "code",
      "source": [
        "df.Start_Lng"
      ],
      "metadata": {
        "colab": {
          "base_uri": "https://localhost:8080/"
        },
        "id": "4sH-y-9BYPmq",
        "outputId": "b3721dd6-b528-4954-9c78-7fd4eccc8a52"
      },
      "execution_count": 146,
      "outputs": [
        {
          "output_type": "execute_result",
          "data": {
            "text/plain": [
              "0         -84.058723\n",
              "1         -82.831184\n",
              "2         -84.032608\n",
              "3         -84.205582\n",
              "4         -84.188354\n",
              "             ...    \n",
              "631647    -95.993553\n",
              "631648    -95.557770\n",
              "631649    -95.269531\n",
              "631650    -97.442711\n",
              "631651   -122.284470\n",
              "Name: Start_Lng, Length: 631652, dtype: float64"
            ]
          },
          "metadata": {},
          "execution_count": 146
        }
      ]
    },
    {
      "cell_type": "code",
      "source": [
        "sample_df = df.sample(int(0.1 * len(df)))"
      ],
      "metadata": {
        "id": "XZ2lalCUYRNx"
      },
      "execution_count": 147,
      "outputs": []
    },
    {
      "cell_type": "code",
      "source": [
        "sample_df = df.sample(int(0.1 * len(df)))"
      ],
      "metadata": {
        "id": "7pMu6XezYSl_"
      },
      "execution_count": 148,
      "outputs": []
    },
    {
      "cell_type": "code",
      "source": [
        "sns.scatterplot(x=sample_df.Start_Lng, y=sample_df.Start_Lat, size=0.001)"
      ],
      "metadata": {
        "colab": {
          "base_uri": "https://localhost:8080/",
          "height": 469
        },
        "id": "KadklHqUYT7j",
        "outputId": "be84e1bd-70d7-436c-a84e-84ea7d99291f"
      },
      "execution_count": 149,
      "outputs": [
        {
          "output_type": "execute_result",
          "data": {
            "text/plain": [
              "<Axes: xlabel='Start_Lng', ylabel='Start_Lat'>"
            ]
          },
          "metadata": {},
          "execution_count": 149
        },
        {
          "output_type": "display_data",
          "data": {
            "text/plain": [
              "<Figure size 640x480 with 1 Axes>"
            ],
            "image/png": "[encoded data removed]"
          },
          "metadata": {}
        }
      ]
    },
    {
      "cell_type": "code",
      "source": [
        "import folium #Using folium lib for visualizing geospatial data."
      ],
      "metadata": {
        "id": "4XD-Rm3xYVLZ"
      },
      "execution_count": 157,
      "outputs": []
    },
    {
      "cell_type": "code",
      "source": [
        "lat, lon = df.Start_Lat[0], df.Start_Lng[0]\n",
        "lat, lon"
      ],
      "metadata": {
        "colab": {
          "base_uri": "https://localhost:8080/"
        },
        "id": "EDDgwd9NYYhM",
        "outputId": "a11341fb-8ade-4f73-cb41-d0ec90766c75"
      },
      "execution_count": 151,
      "outputs": [
        {
          "output_type": "execute_result",
          "data": {
            "text/plain": [
              "(39.865147, -84.058723)"
            ]
          },
          "metadata": {},
          "execution_count": 151
        }
      ]
    },
    {
      "cell_type": "code",
      "source": [
        "for x in df[['Start_Lat', 'Start_Lng']].sample(100).iteritems():\n",
        "    print(x[1])"
      ],
      "metadata": {
        "colab": {
          "base_uri": "https://localhost:8080/"
        },
        "id": "kv-EntgNYbLj",
        "outputId": "1be70455-b2e9-49c3-8204-9660e1c6a755"
      },
      "execution_count": 152,
      "outputs": [
        {
          "output_type": "stream",
          "name": "stdout",
          "text": [
            "422389    40.737286\n",
            "519577    25.812462\n",
            "100531    34.039394\n",
            "259095    40.176872\n",
            "574368    32.952301\n",
            "            ...    \n",
            "496622    33.036228\n",
            "164397    41.248623\n",
            "31769     37.710236\n",
            "189014    42.979458\n",
            "36341     38.466042\n",
            "Name: Start_Lat, Length: 100, dtype: float64\n",
            "422389    -73.851784\n",
            "519577    -80.222412\n",
            "100531   -118.080559\n",
            "259095    -75.080795\n",
            "574368    -80.162842\n",
            "             ...    \n",
            "496622   -117.281273\n",
            "164397    -96.138603\n",
            "31769    -122.460426\n",
            "189014    -85.625175\n",
            "36341    -121.378952\n",
            "Name: Start_Lng, Length: 100, dtype: float64\n"
          ]
        },
        {
          "output_type": "stream",
          "name": "stderr",
          "text": [
            "<ipython-input-152-67bc8524e568>:1: FutureWarning: iteritems is deprecated and will be removed in a future version. Use .items instead.\n",
            "  for x in df[['Start_Lat', 'Start_Lng']].sample(100).iteritems():\n"
          ]
        }
      ]
    },
    {
      "cell_type": "code",
      "source": [
        "zip(list(df.Start_Lat), list(df.Start_Lng))"
      ],
      "metadata": {
        "colab": {
          "base_uri": "https://localhost:8080/"
        },
        "id": "XCcxW5fcYdID",
        "outputId": "f15ae82a-e431-41be-a539-813ecd828b18"
      },
      "execution_count": 153,
      "outputs": [
        {
          "output_type": "execute_result",
          "data": {
            "text/plain": [
              "<zip at 0x7fef79a44440>"
            ]
          },
          "metadata": {},
          "execution_count": 153
        }
      ]
    },
    {
      "cell_type": "code",
      "source": [
        "from folium.plugins import HeatMap"
      ],
      "metadata": {
        "id": "jrAdH8TCYfoP"
      },
      "execution_count": 154,
      "outputs": []
    },
    {
      "cell_type": "code",
      "source": [
        "sample_df = df.sample(int(0.001 * len(df)))\n",
        "lat_lon_pairs = list(zip(list(sample_df.Start_Lat), list(sample_df.Start_Lng)))"
      ],
      "metadata": {
        "id": "wytJiGnBYhSN"
      },
      "execution_count": 155,
      "outputs": []
    },
    {
      "cell_type": "code",
      "source": [
        "map = folium.Map()\n",
        "HeatMap(lat_lon_pairs).add_to(map)\n",
        "map"
      ],
      "metadata": {
        "colab": {
          "base_uri": "https://localhost:8080/",
          "height": 685
        },
        "id": "0les1oxlYinv",
        "outputId": "854fb28f-a279-4247-c6b0-eaf3c8515597"
      },
      "execution_count": 156,
      "outputs": [
        {
          "output_type": "execute_result",
          "data": {
            "text/plain": [
              "<folium.folium.Map at 0x7fef79a32cb0>"
            ],
            "text/html": [
              "<div style=\"width:100%;\"><div style=\"position:relative;width:100%;height:0;padding-bottom:60%;\"><span style=\"color:#565656\">Make this Notebook Trusted to load map: File -> Trust Notebook</span><iframe srcdoc=\"&lt;!DOCTYPE html&gt;\n",
              "&lt;html&gt;\n",
              "&lt;head&gt;\n",
              "    \n",
              "    &lt;meta http-equiv=&quot;content-type&quot; content=&quot;text/html; charset=UTF-8&quot; /&gt;\n",
              "    \n",
              "        &lt;script&gt;\n",
              "            L_NO_TOUCH = false;\n",
              "            L_DISABLE_3D = false;\n",
              "        &lt;/script&gt;\n",
              "    \n",
              "    &lt;style&gt;html, body {width: 100%;height: 100%;margin: 0;padding: 0;}&lt;/style&gt;\n",
              "    &lt;style&gt;#map {position:absolute;top:0;bottom:0;right:0;left:0;}&lt;/style&gt;\n",
              "    &lt;script src=&quot;https://cdn.jsdelivr.net/npm/leaflet@1.9.3/dist/leaflet.js&quot;&gt;&lt;/script&gt;\n",
              "    &lt;script src=&quot;https://code.jquery.com/jquery-1.12.4.min.js&quot;&gt;&lt;/script&gt;\n",
              "    &lt;script src=&quot;https://cdn.jsdelivr.net/npm/bootstrap@5.2.2/dist/js/bootstrap.bundle.min.js&quot;&gt;&lt;/script&gt;\n",
              "    &lt;script src=&quot;https://cdnjs.cloudflare.com/ajax/libs/Leaflet.awesome-markers/2.0.2/leaflet.awesome-markers.js&quot;&gt;&lt;/script&gt;\n",
              "    &lt;link rel=&quot;stylesheet&quot; href=&quot;https://cdn.jsdelivr.net/npm/leaflet@1.9.3/dist/leaflet.css&quot;/&gt;\n",
              "    &lt;link rel=&quot;stylesheet&quot; href=&quot;https://cdn.jsdelivr.net/npm/bootstrap@5.2.2/dist/css/bootstrap.min.css&quot;/&gt;\n",
              "    &lt;link rel=&quot;stylesheet&quot; href=&quot;https://netdna.bootstrapcdn.com/bootstrap/3.0.0/css/bootstrap.min.css&quot;/&gt;\n",
              "    &lt;link rel=&quot;stylesheet&quot; href=&quot;https://cdn.jsdelivr.net/npm/@fortawesome/fontawesome-free@6.2.0/css/all.min.css&quot;/&gt;\n",
              "    &lt;link rel=&quot;stylesheet&quot; href=&quot;https://cdnjs.cloudflare.com/ajax/libs/Leaflet.awesome-markers/2.0.2/leaflet.awesome-markers.css&quot;/&gt;\n",
              "    &lt;link rel=&quot;stylesheet&quot; href=&quot;https://cdn.jsdelivr.net/gh/python-visualization/folium/folium/templates/leaflet.awesome.rotate.min.css&quot;/&gt;\n",
              "    \n",
              "            &lt;meta name=&quot;viewport&quot; content=&quot;width=device-width,\n",
              "                initial-scale=1.0, maximum-scale=1.0, user-scalable=no&quot; /&gt;\n",
              "            &lt;style&gt;\n",
              "                #map_59dc273d1975201608dbbd78c9219089 {\n",
              "                    position: relative;\n",
              "                    width: 100.0%;\n",
              "                    height: 100.0%;\n",
              "                    left: 0.0%;\n",
              "                    top: 0.0%;\n",
              "                }\n",
              "                .leaflet-container { font-size: 1rem; }\n",
              "            &lt;/style&gt;\n",
              "        \n",
              "    &lt;script src=&quot;https://cdn.jsdelivr.net/gh/python-visualization/folium@main/folium/templates/leaflet_heat.min.js&quot;&gt;&lt;/script&gt;\n",
              "&lt;/head&gt;\n",
              "&lt;body&gt;\n",
              "    \n",
              "    \n",
              "            &lt;div class=&quot;folium-map&quot; id=&quot;map_59dc273d1975201608dbbd78c9219089&quot; &gt;&lt;/div&gt;\n",
              "        \n",
              "&lt;/body&gt;\n",
              "&lt;script&gt;\n",
              "    \n",
              "    \n",
              "            var map_59dc273d1975201608dbbd78c9219089 = L.map(\n",
              "                &quot;map_59dc273d1975201608dbbd78c9219089&quot;,\n",
              "                {\n",
              "                    center: [0, 0],\n",
              "                    crs: L.CRS.EPSG3857,\n",
              "                    zoom: 1,\n",
              "                    zoomControl: true,\n",
              "                    preferCanvas: false,\n",
              "                }\n",
              "            );\n",
              "\n",
              "            \n",
              "\n",
              "        \n",
              "    \n",
              "            var tile_layer_9b37745c33102d31d61a99db7940d8ac = L.tileLayer(\n",
              "                &quot;https://{s}.tile.openstreetmap.org/{z}/{x}/{y}.png&quot;,\n",
              "                {&quot;attribution&quot;: &quot;Data by \\u0026copy; \\u003ca target=\\&quot;_blank\\&quot; href=\\&quot;http://openstreetmap.org\\&quot;\\u003eOpenStreetMap\\u003c/a\\u003e, under \\u003ca target=\\&quot;_blank\\&quot; href=\\&quot;http://www.openstreetmap.org/copyright\\&quot;\\u003eODbL\\u003c/a\\u003e.&quot;, &quot;detectRetina&quot;: false, &quot;maxNativeZoom&quot;: 18, &quot;maxZoom&quot;: 18, &quot;minZoom&quot;: 0, &quot;noWrap&quot;: false, &quot;opacity&quot;: 1, &quot;subdomains&quot;: &quot;abc&quot;, &quot;tms&quot;: false}\n",
              "            ).addTo(map_59dc273d1975201608dbbd78c9219089);\n",
              "        \n",
              "    \n",
              "            var heat_map_018840146ebcbacf7954fb71db7ee656 = L.heatLayer(\n",
              "                [[41.941013, -87.71249399999998], [33.026508, -96.719879], [34.156593, -118.447876], [32.778236, -97.212532], [39.6534, -77.749397], [40.079544, -75.146294], [40.077591, -76.258713], [34.207546, -117.408012], [34.29327, -118.841866], [35.175949, -80.798241], [40.067516, -76.413216], [34.320553000000004, -118.495262], [39.064285, -77.48428299999998], [34.101688, -118.316711], [29.939081, -95.38147], [38.913708, -123.054001], [40.153694, -76.57356999999998], [41.953575, -88.030922], [35.079956, -85.203751], [43.170078, -83.734543], [33.767502, -84.494568], [37.372505, -121.92717], [37.322247, -121.898155], [30.44552, -91.034218], [30.403763, -97.853981], [33.750809000000004, -81.84436], [38.73975, -121.820892], [29.71512, -95.315376], [41.774433, -87.946579], [30.325481, -97.702515], [37.195618, -121.993538], [30.198629, -97.684204], [33.930939, -118.178909], [40.20486500000001, -75.222809], [31.22758300000001, -85.43222], [33.009899, -96.849846], [29.257099, -81.11595200000002], [39.268478, -76.628548], [47.715733, -117.477654], [42.912819, -85.647102], [33.668186, -117.81929], [32.837818, -97.016312], [41.274643, -73.710205], [32.77879, -96.782021], [40.725784, -73.837631], [38.854649, -77.388481], [27.172297, -80.267799], [39.742458, -84.166809], [41.208229, -73.09393299999998], [34.145275, -117.284157], [28.451488, -81.23060600000002], [40.430092, -80.13507800000002], [37.415821, -121.977684], [33.418812, -82.078934], [34.055996, -117.715591], [42.476501, -83.11179399999997], [39.765408, -84.18267800000002], [34.062588, -118.248718], [37.94537, -122.058289], [37.739738, -121.121086], [47.633358, -122.376404], [40.821651, -73.95829], [41.234035, -96.1007], [37.59528, -121.872574], [41.751331, -87.999725], [32.881237, -96.948051], [41.763836, -72.630127], [33.754318, -117.189423], [42.4981, -83.536034], [37.056786, -76.402924], [29.737473, -95.514214], [40.88187, -73.092651], [37.531292, -121.94101], [42.805149, -86.038399], [40.127129, -75.33845500000002], [34.014957, -118.170074], [43.006428, -83.687538], [39.735844, -84.121658], [39.940681, -82.535507], [32.836655, -96.822029], [38.84670300000001, -77.43220500000002], [42.357838, -83.216385], [41.121376, -74.007706], [34.07188, -117.890297], [40.17474, -76.552338], [25.898338, -80.20976999999998], [37.584156, -122.328293], [33.869362, -118.086601], [47.230492, -122.460693], [33.990162, -117.917755], [28.479465, -82.539726], [39.600403, -119.837669], [47.679665, -122.321083], [47.537411, -122.362564], [37.53915, -77.449203], [25.867538, -80.340538], [34.854397, -82.33510600000002], [34.016273, -118.172493], [47.952332, -122.217987], [47.648792, -122.323441], [32.779453000000004, -117.067497], [29.716803, -95.556664], [41.31992, -73.97983599999998], [33.985321, -118.413811], [28.205086, -82.50412], [29.678782, -95.40316], [34.884659, -82.354347], [42.850605, -83.702965], [37.775509, -121.71875], [28.478785, -82.253304], [28.616396, -81.427727], [47.463558, -122.289871], [39.320492, -76.551125], [34.139694, -117.339844], [30.43737, -97.760506], [34.03783, -118.022041], [47.679665, -122.321083], [30.335411, -97.703049], [33.846484999999994, -84.247078], [29.676052, -95.595688], [38.002209, -122.047607], [41.270561, -96.052574], [38.916355, -121.165619], [45.443184, -122.741058], [42.782223, -83.534935], [38.840942, -76.874237], [30.419399, -97.660919], [34.062588, -118.248718], [34.053425, -117.781143], [28.51572800000001, -81.289764], [25.98505, -80.16551199999998], [35.412471999999994, -119.05441299999998], [37.863266, -122.035553], [39.765137, -84.235107], [38.678669, -121.244347], [43.486794, -83.92160799999998], [41.694458, -91.638168], [39.073799, -77.16471899999998], [38.639324, -121.277977], [28.088066, -82.459633], [30.448694, -91.048347], [27.338223, -82.446991], [34.377811, -118.493652], [38.013485, -122.2593], [38.86780200000001, -104.738579], [40.717358, -111.836365], [47.23476, -122.482414], [30.282812, -97.653206], [42.255486, -71.039642], [40.012829, -83.109131], [32.842682, -97.342758], [27.079441, -82.38884], [34.097431, -118.31385], [40.86861, -74.405045], [33.822514, -117.876297], [32.906890999999995, -117.224556], [34.120953, -117.890091], [38.641464, -121.462387], [33.61476500000001, -117.707458], [36.856628, -76.282158], [32.769432, -96.68277], [29.730297, -95.476517], [32.742649, -97.745323], [41.139324, -74.169876], [29.679558, -95.351921], [37.562347, -121.904945], [33.963303, -118.247658], [33.957844, -117.859795], [40.785217, -73.444489], [42.476501, -83.11179399999997], [40.629585, -74.249962], [42.682884, -73.721786], [34.034954, -118.33371], [40.864857, -73.32109799999998], [29.876654, -95.411644], [34.028751, -117.811241], [47.51733400000001, -122.34539], [37.383858, -122.068649], [41.858925, -88.096329], [38.657684, -121.382851], [30.248053, -97.73542], [40.834003, -73.86281600000002], [34.034931, -118.368523], [41.823238, -87.659904], [34.135532, -117.986404], [33.43536, -82.092453], [41.360813, -72.209763], [29.789743, -95.371574], [32.792515, -96.688309], [41.756695, -88.031235], [38.625092, -121.517212], [30.230761, -97.879326], [34.0676, -117.598564], [32.710251, -97.024155], [41.734154, -72.66404], [42.376171, -71.238991], [33.994246999999994, -117.90509], [37.386871, -121.996025], [40.835567, -74.147522], [41.028091, -73.73597], [36.196732, -119.798187], [33.816303000000005, -116.404167], [38.90976, -77.544472], [41.772263, -88.040314], [38.769951, -121.248466], [38.259922, -122.660591], [39.747753, -84.20558199999998], [32.924259, -96.763428], [38.488636, -121.803772], [27.193361, -82.114731], [34.135574, -118.000885], [30.293295, -97.74176], [41.289619, -72.664406], [33.218575, -87.575867], [40.005661, -75.221954], [40.00865200000001, -75.210701], [39.894592, -75.359451], [37.865192, -121.667648], [41.760918, -87.944824], [36.19397, -86.743713], [34.705055, -86.588646], [30.199753, -81.744148], [29.686876, -95.378777], [30.10663, -95.435478], [28.576689, -81.55686999999998], [33.913185, -118.180443], [26.61414000000001, -81.762863], [33.820148, -116.409348], [40.037148, -77.077568], [32.720745, -97.533646], [38.25758, -122.302879], [30.301908, -97.715286], [30.23074, -97.766792], [33.809055, -118.287476], [41.262794, -96.090996], [25.859938, -80.208054], [42.31982, -71.08139], [42.340363, -71.261955], [37.145508, -121.98497], [33.952152000000005, -118.295914], [39.765827, -84.193558], [33.911751, -118.180153], [39.230183, -77.283737], [30.470591, -91.140106], [27.777294, -82.644958], [41.607128, -87.107437], [30.423958, -91.075043], [41.855797, -87.644615], [32.809525, -80.03679699999998], [34.157307, -118.468987], [28.534554, -81.528992], [39.370003, -77.412476], [34.961842, -78.889542], [37.690041, -122.11422], [28.293921, -82.709244], [33.93605, -117.116714], [40.796597, -73.97592900000002], [28.564957, -81.23217], [33.916458, -118.370323], [33.775333, -78.983063], [37.145508, -121.98497], [28.536140000000003, -82.486603], [33.941002000000005, -118.095085], [25.911835, -80.244171], [33.973396, -118.168007], [26.231586, -80.136581], [41.942123, -71.474861], [28.59207, -81.286552], [47.23476, -122.482414], [32.838840000000005, -97.082672], [34.299248, -118.419525], [33.366859000000005, -97.179604], [30.476341, -97.764626], [40.07597, -75.128288], [42.261372, -71.209633], [26.492729, -81.813187], [28.508842, -81.4188], [42.251041, -89.08239], [41.878914, -87.97150400000002], [37.79855300000001, -122.27478], [33.89782, -117.275131], [34.199013, -118.337799], [29.598827000000004, -95.353302], [41.234169, -96.081451], [37.709305, -121.722847], [33.931315999999995, -118.362816], [48.036053, -122.04981200000002], [40.441891, -74.129906], [41.263031, -96.215622], [33.542271, -117.673592], [37.974781, -122.058464], [33.862499, -84.380264], [29.724312, -95.484283], [32.669857, -97.305664], [39.304394, -76.91585500000002], [35.005344, -105.825966], [29.613764, -95.409355], [39.192295, -74.824471], [40.801922, -73.82959], [30.247728, -92.193031], [30.158777, -97.775856], [41.014034, -73.717239], [40.024517, -75.327217], [40.109062, -75.272636], [36.148441, -86.776527], [42.025772, -88.311874], [34.298363, -83.40572399999998], [34.069984000000005, -118.262695], [30.419119, -97.672897], [40.374393, -74.14771999999998], [32.875065, -116.90995], [26.08605, -80.360649], [35.318531, -80.7789], [29.384232, -98.469368], [32.860939, -96.770409], [34.230938, -117.241425], [33.675095, -117.839874], [41.633381, -72.752312], [42.258625, -71.79361], [33.883553000000006, -118.156052], [33.802849, -118.125877], [33.817677, -117.967613], [30.20381, -97.783806], [32.705929, -97.320717], [26.45825, -80.174706], [40.110378, -76.440674], [33.899035999999995, -118.104912], [27.441582, -82.459976], [33.646435, -111.893593], [41.248768, -96.006264], [29.401108, -98.469742], [41.934704, -71.46624], [35.080132, -80.816231], [42.49369, -83.5158], [40.060226, -76.277069], [39.01535, -77.00524899999998], [42.015926, -88.091133], [33.912116999999995, -118.073502], [28.20664600000001, -82.677513], [37.604774, -122.38401], [37.059185, -76.417664], [37.926422, -122.057526], [33.562283, -84.54026800000003], [27.338223, -82.446991], [37.496082, -120.871704], [27.712645, -82.383026], [42.300102, -83.18325], [42.782036, -73.923386], [33.617668, -84.39836899999997], [43.022224, -83.732948], [38.240273, -122.066422], [40.412731, -111.866608], [37.698433, -121.933037], [33.413689, -82.080528], [33.878338, -117.657799], [35.755051, -78.666229], [40.099602, -75.30242199999998], [33.963959, -117.324936], [30.368126, -97.742363], [39.87490800000001, -83.00683599999998], [34.302368, -81.61425799999998], [33.996983, -118.357841], [33.854019, -117.959244], [42.524586, -71.081917], [39.765408, -84.18267800000002], [29.685095, -95.277161], [27.099121000000004, -82.203346], [33.868443, -117.728035], [47.420006, -122.287292], [38.68858, -90.250832], [29.585651, -95.386543], [30.273577000000003, -97.697914], [40.4268, -79.891777], [34.198811, -86.79483], [30.261206, -97.736534], [28.757109000000003, -81.509033], [34.470448, -117.346001], [33.36084, -111.893875], [33.873816999999995, -117.69149], [32.326839, -86.281738], [34.065517, -117.5448], [28.633236, -81.342499], [33.709339, -84.40254200000003], [42.385651, -83.15911899999998], [41.057755, -73.836235], [47.774372, -122.309097], [27.099213, -82.360077], [34.278183, -118.502144], [41.392632, -72.875343], [42.885796, -83.697174], [37.93412, -122.060051], [37.535015, -75.82911700000002], [38.550915, -121.473732], [33.765911, -117.942436], [41.845894, -87.98305500000002], [40.000141, -75.22874499999998], [25.789072, -80.204353], [40.112659, -75.420296], [38.288685, -83.323471], [32.849335, -96.683144], [28.223707, -82.177948], [27.338142, -82.452469], [32.779202000000005, -117.070122], [28.047623, -82.738525], [39.933685, -82.942245], [34.21447, -119.010452], [34.277355, -119.294441], [33.247028, -117.227936], [37.318939, -121.99218], [32.748062, -96.918922], [32.850483000000004, -116.951897], [34.101688, -118.316711], [33.928940000000004, -118.280708], [38.244747, -122.44873], [42.943455, -83.652512], [40.062603, -76.313797], [32.923908000000004, -96.764305], [43.008617, -83.683861], [34.007175, -117.965302], [26.033426, -80.16439799999998], [38.410576, -122.71595], [29.72868, -95.46022], [38.660812, -121.341309], [39.268841, -76.745964], [38.967869, -94.35836], [37.80051, -122.279808], [25.784483, -80.29486800000002], [34.726002, -86.596474], [28.179115000000003, -82.29866], [39.13478900000001, -84.53270699999999], [28.55064, -81.261398], [37.418709, -121.968895], [27.338223, -82.446991], [29.398268, -98.38929], [34.202721000000004, -117.415222], [40.081326, -75.387878], [34.028339, -118.230293], [40.263035, -75.319328], [26.655329, -80.069389], [41.085571, -73.925507], [29.708652, -95.52784], [40.124531, -76.469444], [35.066864, -89.84407], [29.870901, -95.3517], [32.767517, -96.835632], [29.631075, -95.234314], [29.425074, -98.456757], [28.50593, -81.347359], [25.899784, -80.209885], [29.697392, -95.288879], [28.329851, -82.569038], [42.574493, -71.262062], [47.202614, -122.278732], [42.932552, -83.574219], [40.437729, -74.16947900000002], [34.054077, -118.237862], [40.696232, -74.25862099999998], [42.992283, -83.73288000000002], [39.054794, -77.617889], [33.681328, -84.41152199999998], [29.399353, -98.486343], [26.420731, -80.089821], [34.010075, -84.567451], [38.671955, -121.38282], [41.982224, -87.812943], [30.371679, -97.78569], [39.409359, -76.579224], [34.157715, -118.37941], [32.682407, -96.891457], [41.410461, -81.725853], [28.493181, -81.433258], [37.146729, -93.277824], [40.111866, -75.123322], [42.888783, -85.49385799999997], [42.465408, -87.946533], [38.669819, -121.225677], [29.516119, -98.404716], [47.08279, -122.670143], [27.85162, -82.34671800000002], [26.690718, -80.06658900000002], [35.87532, -78.623222], [25.957117, -80.20565], [39.083603, -84.47245], [34.186695, -118.474022], [33.670605, -117.755402], [38.790867, -77.17615500000002], [33.843803, -84.37140699999998], [38.89325, -77.06732199999998], [34.034649, -118.267052], [32.708664, -117.098228], [34.976551, -80.998871], [37.800674, -121.192337], [30.456154, -97.665703], [28.054947, -82.018906], [42.500259, -71.47466999999997], [42.984325, -85.590546], [40.063358, -76.2173], [42.438934, -83.432281], [47.580242, -122.174667], [32.669201, -117.111511], [32.767959999999995, -97.318062], [26.67626, -81.59831199999998], [34.047153, -117.992706], [39.033337, -76.852257], [40.60707100000001, -74.042976], [32.803207, -116.935722], [25.984783, -80.165482], [27.981264000000003, -82.45395699999997], [33.74707, -118.008316], [40.401932, -80.106308], [39.52169, -122.088676], [41.137608, -95.956985], [34.111134, -118.180359], [39.87989, -86.292107], [32.906979, -80.093849], [33.193462, -117.365082], [37.95137, -122.527817], [28.374033, -81.503799], [37.771832, -122.223724], [38.651051, -121.487701], [32.85067, -96.67675], [37.401684, -121.908997], [38.935108, -121.093307], [40.108459, -75.32386], [33.569981, -81.809166], [33.89835, -117.477066], [38.185333, -85.724876], [37.838303, -121.61218999999998], [36.904007, -121.713844], [42.047588, -88.34119399999999], [40.441631, -79.828194], [32.947159, -96.614326], [33.50581, -112.043976], [37.761818, -122.40586100000002], [39.81662, -75.06809200000002], [25.971298, -80.262344], [41.873196, -87.908539], [30.371679, -97.78569], [34.55872, -82.69013199999998], [38.63179, -121.398041], [31.421021000000003, -85.612289], [33.958954, -118.29863], [30.375879, -82.01696], [41.258762, -95.980438], [32.676762, -96.763199], [41.424568, -81.571136], [41.176292, -96.061981], [33.844631, -117.828407], [34.02832, -118.431313], [40.900005, -73.796013], [41.723057, -87.789787], [38.942181, -76.71800999999998], [37.66964, -122.466217], [39.01577, -77.016624], [29.527822, -98.483704], [32.599148, -97.319351], [38.632908, -121.21289099999998], [37.806557, -122.475037], [29.82266, -95.563927], [37.690468, -122.08898899999998], [33.975159000000005, -118.280998], [34.031368, -118.192307], [41.89661, -87.63419300000002], [42.92648300000001, -83.65106999999998], [33.318089, -81.955353], [33.875313, -118.063927], [38.610794, -121.410721], [40.608536, -74.147896], [47.604191, -122.332718], [29.846066, -95.563713], [33.765018, -84.493874], [39.06583, -77.074318], [33.900024, -117.473351], [37.3522, -121.996368], [40.236389, -75.47191600000002], [39.886875, -75.21453100000002], [42.31710800000001, -71.22578399999998], [39.640202, -84.235283], [39.571339, -76.137878], [40.087666, -76.284599], [30.321690000000004, -97.706978], [42.461857, -83.105797], [29.747032, -95.457108], [43.086079, -85.55304699999998], [39.18008, -121.107323], [40.225468, -75.256798], [37.701626, -122.020798], [42.980968, -85.696686], [34.159659999999995, -118.466141], [37.836445, -122.011879], [47.711143, -122.131882], [38.465618, -121.41478], [38.449287, -122.725983], [42.222454, -73.73496999999998], [38.31825300000001, -85.572113], [47.655903, -122.322449], [42.958214, -83.771614], [47.474598, -122.172966], [32.802956, -116.935661], [42.280952, -87.911575], [26.338013, -81.800987], [34.081757, -117.725449], [35.06731, -80.990402], [38.977669, -77.31517], [40.616379, -74.221016], [38.249687, -122.07], [29.613632, -95.419594], [48.09715300000001, -122.815041], [32.817162, -96.871399], [33.460041, -82.11308299999997], [38.887798, -77.16171999999997], [34.037037, -118.377533], [34.022182, -117.337189], [33.938175, -117.126839], [42.308701, -87.876785], [39.704941, -86.109802], [30.189892, -97.701286], [33.880138, -117.565781], [29.806246, -95.569878], [26.708525, -80.166084], [36.967793, -121.798271], [33.70348, -84.170181], [33.878475, -117.657646], [38.00843, -122.275612], [39.890114, -82.958382], [45.612831, -122.678543], [37.922276, -122.318748], [39.742176, -84.155891], [39.74004, -84.194923], [29.39609, -98.501511], [42.487984, -82.917175]],\n",
              "                {&quot;blur&quot;: 15, &quot;maxZoom&quot;: 18, &quot;minOpacity&quot;: 0.5, &quot;radius&quot;: 25}\n",
              "            ).addTo(map_59dc273d1975201608dbbd78c9219089);\n",
              "        \n",
              "&lt;/script&gt;\n",
              "&lt;/html&gt;\" style=\"position:absolute;width:100%;height:100%;left:0;top:0;border:none !important;\" allowfullscreen webkitallowfullscreen mozallowfullscreen></iframe></div></div>"
            ]
          },
          "metadata": {},
          "execution_count": 156
        }
      ]
    }
  ]
}